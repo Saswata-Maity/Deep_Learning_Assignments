{
 "cells": [
  {
   "cell_type": "code",
   "execution_count": null,
   "id": "c60328f0-196c-4d56-a226-fb38e562e3de",
   "metadata": {},
   "outputs": [],
   "source": [
    "Assignment 2: Cats vs. Dogs Classification\n",
    "Dataset: Kaggle Cats vs. Dogs (25,000 labeled images)\n",
    "Task:\n",
    "Build a binary classification model to distinguish cats from dogs.\n",
    "Use data augmentation (flip, rotate, zoom) to prevent overfitting.\n",
    "Evaluate the model's accuracy and precision.\n",
    "Expected Outcomes:\n",
    "Achieve at least 85-90% accuracy.\n",
    "Display a confusion matrix and classification report.\n",
    "Bonus Challenges:\n",
    "Use data augmentation to reduce overfitting.\n",
    "Experiment with Dropout layers and regularization."
   ]
  },
  {
   "cell_type": "code",
   "execution_count": 1,
   "id": "0feeaf05-eaba-4703-b7be-ca9a67ba723a",
   "metadata": {},
   "outputs": [
    {
     "name": "stderr",
     "output_type": "stream",
     "text": [
      "C:\\Users\\Saswata Maity\\.conda\\envs\\py310\\lib\\site-packages\\tqdm\\auto.py:21: TqdmWarning: IProgress not found. Please update jupyter and ipywidgets. See https://ipywidgets.readthedocs.io/en/stable/user_install.html\n",
      "  from .autonotebook import tqdm as notebook_tqdm\n"
     ]
    },
    {
     "name": "stdout",
     "output_type": "stream",
     "text": [
      "Downloading from https://www.kaggle.com/api/v1/datasets/download/shaunthesheep/microsoft-catsvsdogs-dataset?dataset_version_number=1...\n"
     ]
    },
    {
     "name": "stderr",
     "output_type": "stream",
     "text": [
      "100%|███████████████████████████████████████████████████████████████████████████████| 788M/788M [01:24<00:00, 9.78MB/s]"
     ]
    },
    {
     "name": "stdout",
     "output_type": "stream",
     "text": [
      "Extracting files...\n"
     ]
    },
    {
     "name": "stderr",
     "output_type": "stream",
     "text": [
      "\n"
     ]
    },
    {
     "name": "stdout",
     "output_type": "stream",
     "text": [
      "Path to dataset files: C:\\Users\\Saswata Maity\\.cache\\kagglehub\\datasets\\shaunthesheep\\microsoft-catsvsdogs-dataset\\versions\\1\n"
     ]
    }
   ],
   "source": [
    "import kagglehub\n",
    "\n",
    "# Download latest version\n",
    "path = kagglehub.dataset_download(\"shaunthesheep/microsoft-catsvsdogs-dataset\")\n",
    "\n",
    "print(\"Path to dataset files:\", path)"
   ]
  },
  {
   "cell_type": "code",
   "execution_count": 47,
   "id": "b7c8d594-3c7e-4836-a525-161bddc5797d",
   "metadata": {},
   "outputs": [],
   "source": [
    "data_path=r\"C:\\Users\\Saswata Maity\\.cache\\kagglehub\\datasets\\shaunthesheep\\microsoft-catsvsdogs-dataset\\versions\\1\\PetImages\""
   ]
  },
  {
   "cell_type": "code",
   "execution_count": 49,
   "id": "6bf6a040-2edb-4f6f-b956-c10c4fce5ad8",
   "metadata": {},
   "outputs": [],
   "source": [
    "import os\n",
    "import shutil\n",
    "from glob import glob\n",
    "from tqdm import tqdm\n",
    "import tensorflow as tf\n",
    "from tensorflow import keras\n",
    "\n",
    "\n",
    "import matplotlib.pyplot as plt\n",
    "\n",
    "# Dataset\n",
    "import pandas as pd\n",
    "from PIL import Image\n",
    "from tensorflow.keras.preprocessing.image import ImageDataGenerator"
   ]
  },
  {
   "cell_type": "code",
   "execution_count": 50,
   "id": "fad8af04-8389-4def-ab5e-9ba64b9299a7",
   "metadata": {},
   "outputs": [
    {
     "name": "stdout",
     "output_type": "stream",
     "text": [
      "Class Names: ['Cat', 'Dog']\n",
      "No of images per class: [12501, 12501]\n"
     ]
    }
   ],
   "source": [
    "# Set Image Directory\n",
    "image_dir = data_path\n",
    "# Extract class names\n",
    "class_names = sorted(os.listdir(image_dir))\n",
    "\n",
    "# Number of Images\n",
    "n_images = [len(os.listdir(os.path.join(image_dir, name))) for name in class_names]\n",
    "\n",
    "print(f'Class Names: {class_names}')\n",
    "\n",
    "print(f'No of images per class: {n_images}')"
   ]
  },
  {
   "cell_type": "code",
   "execution_count": 51,
   "id": "e1f523f1-911b-46ea-811a-031dbbe65090",
   "metadata": {},
   "outputs": [
    {
     "name": "stderr",
     "output_type": "stream",
     "text": [
      " 88%|███████████████████████████████████████████████████████████████████         | 8821/10000 [00:53<00:07, 151.98it/s]"
     ]
    },
    {
     "name": "stdout",
     "output_type": "stream",
     "text": [
      "Error loading image C:\\Users\\Saswata Maity\\.cache\\kagglehub\\datasets\\shaunthesheep\\microsoft-catsvsdogs-dataset\\versions\\1\\PetImages\\Cat\\666.jpg: cannot identify image file 'C:\\\\Users\\\\Saswata Maity\\\\.cache\\\\kagglehub\\\\datasets\\\\shaunthesheep\\\\microsoft-catsvsdogs-dataset\\\\versions\\\\1\\\\PetImages\\\\Cat\\\\666.jpg'\n"
     ]
    },
    {
     "name": "stderr",
     "output_type": "stream",
     "text": [
      "100%|███████████████████████████████████████████████████████████████████████████| 10000/10000 [01:00<00:00, 164.11it/s]\n",
      " 19%|██████████████▋                                                             | 1929/10000 [00:11<00:47, 170.01it/s]"
     ]
    },
    {
     "name": "stdout",
     "output_type": "stream",
     "text": [
      "Error loading image C:\\Users\\Saswata Maity\\.cache\\kagglehub\\datasets\\shaunthesheep\\microsoft-catsvsdogs-dataset\\versions\\1\\PetImages\\Dog\\11702.jpg: cannot identify image file 'C:\\\\Users\\\\Saswata Maity\\\\.cache\\\\kagglehub\\\\datasets\\\\shaunthesheep\\\\microsoft-catsvsdogs-dataset\\\\versions\\\\1\\\\PetImages\\\\Dog\\\\11702.jpg'\n"
     ]
    },
    {
     "name": "stderr",
     "output_type": "stream",
     "text": [
      "100%|███████████████████████████████████████████████████████████████████████████| 10000/10000 [01:00<00:00, 166.30it/s]\n",
      "100%|█████████████████████████████████████████████████████████████████████████████| 1000/1000 [00:06<00:00, 163.87it/s]\n",
      "100%|█████████████████████████████████████████████████████████████████████████████| 1000/1000 [00:05<00:00, 172.40it/s]\n"
     ]
    }
   ],
   "source": [
    "# Set some constants\n",
    "n_train_images = 10000\n",
    "n_test_images = 1000\n",
    "\n",
    "# Create Training & Testing Directories\n",
    "train_dir, test_dir = './train_dir', './test_dir'\n",
    "os.makedirs(train_dir, exist_ok=True)\n",
    "os.makedirs(test_dir, exist_ok=True)\n",
    "\n",
    "# Copy Images from OG location to Target Location\n",
    "for name in class_names:\n",
    "\n",
    "    # Make Sure Sub Directory Exists for Training\n",
    "    dest_train_dir = os.path.join(train_dir, name)\n",
    "    os.makedirs(dest_train_dir, exist_ok=True)\n",
    "\n",
    "    # Load Input Image Paths for Training\n",
    "    train_image_paths = sorted(glob(os.path.join(image_dir, name, \"*\")))[:n_train_images]\n",
    "\n",
    "    # Copy the images for Training\n",
    "    for image_path in tqdm(train_image_paths):\n",
    "        try:\n",
    "            # Load the image to ensure it is valid\n",
    "            Image.open(image_path)\n",
    "            target_path = os.path.join(dest_train_dir, os.path.basename(image_path))\n",
    "            shutil.copy(image_path, target_path)\n",
    "        except Exception as e:\n",
    "            print(f\"Error loading image {image_path}: {e}\")\n",
    "\n",
    "# Copy Images from OG location to Target Location for Testing\n",
    "for name in class_names:\n",
    "    \n",
    "    # Make Sure Sub Directory Exists for Testing\n",
    "    dest_test_dir = os.path.join(test_dir, name)\n",
    "    os.makedirs(dest_test_dir, exist_ok=True)\n",
    "\n",
    "    # Load Input Image Paths for Testing\n",
    "    test_image_paths = sorted(glob(os.path.join(image_dir, name, \"*\")))[n_train_images:n_train_images+n_test_images]\n",
    "\n",
    "    # Copy the images for Testing\n",
    "    for image_path in tqdm(test_image_paths):\n",
    "        try:\n",
    "            # Load the image to ensure it is valid\n",
    "            Image.open(image_path)\n",
    "            target_path = os.path.join(dest_test_dir, os.path.basename(image_path))\n",
    "            shutil.copy(image_path, target_path)\n",
    "        except Exception as e:\n",
    "            print(f\"Error loading image {image_path}: {e}\")"
   ]
  },
  {
   "cell_type": "code",
   "execution_count": 52,
   "id": "da4e57cf-95c7-473e-81f1-c447267c9395",
   "metadata": {},
   "outputs": [
    {
     "name": "stdout",
     "output_type": "stream",
     "text": [
      "Found 18000 images belonging to 2 classes.\n",
      "Found 2500 images belonging to 2 classes.\n",
      "Found 2000 images belonging to 2 classes.\n"
     ]
    }
   ],
   "source": [
    "# Initialize Image Data Generator\n",
    "data_generator = ImageDataGenerator(\n",
    "    rescale=1/255.,\n",
    "    validation_split=0.1\n",
    ")\n",
    "\n",
    "# Load Training Data\n",
    "train_data = data_generator.flow_from_directory(\n",
    "    train_dir,\n",
    "    target_size=(224,224),\n",
    "    class_mode='sparse',\n",
    "    batch_size=32,\n",
    "    shuffle=True,\n",
    "    subset='training',\n",
    "    seed=42\n",
    ")\n",
    "\n",
    "# Load Validation Data\n",
    "valid_data = data_generator.flow_from_directory(\n",
    "    image_dir,\n",
    "    target_size=(224,224),\n",
    "    class_mode='sparse',\n",
    "    batch_size=32,\n",
    "    shuffle=True,\n",
    "    subset='validation',\n",
    "    seed=42\n",
    ")\n",
    "\n",
    "# Load Testing Data\n",
    "test_data = data_generator.flow_from_directory(\n",
    "    test_dir,\n",
    "    target_size=(224,224),\n",
    "    class_mode='sparse',\n",
    "    batch_size=32,\n",
    "    shuffle=False,\n",
    "    seed=42\n",
    ")"
   ]
  },
  {
   "cell_type": "code",
   "execution_count": 93,
   "id": "58a30e24-c59f-4552-a424-12faa0065635",
   "metadata": {},
   "outputs": [],
   "source": [
    "model=tf.keras.Sequential(\n",
    "    [\n",
    "        tf.keras.Input(shape=(224,224,3)),\n",
    "        tf.keras.layers.Rescaling(1.0/255.0),\n",
    "        tf.keras.layers.Conv2D(32,3,activation='relu'),\n",
    "        tf.keras.layers.Conv2D(32,3,activation='relu'),\n",
    "        tf.keras.layers.BatchNormalization(),\n",
    "        tf.keras.layers.MaxPooling2D(),\n",
    "        tf.keras.layers.Conv2D(64,3,activation='relu'),\n",
    "        tf.keras.layers.Conv2D(64,3,activation='relu'),\n",
    "        tf.keras.layers.BatchNormalization(),\n",
    "        tf.keras.layers.MaxPooling2D(),\n",
    "        tf.keras.layers.Conv2D(128,3,activation='relu'),\n",
    "        tf.keras.layers.Conv2D(128,3,activation='relu'),\n",
    "        tf.keras.layers.BatchNormalization(),\n",
    "        tf.keras.layers.MaxPooling2D(),\n",
    "        tf.keras.layers.Conv2D(256,3,activation='relu'),\n",
    "        tf.keras.layers.Conv2D(256,3,activation='relu'),\n",
    "        tf.keras.layers.BatchNormalization(),\n",
    "        tf.keras.layers.MaxPooling2D(),\n",
    "         tf.keras.layers.Conv2D(512,3,activation='relu'),\n",
    "        tf.keras.layers.Conv2D(1024,3,activation='relu'),\n",
    "        tf.keras.layers.BatchNormalization(),\n",
    "        tf.keras.layers.MaxPooling2D(),\n",
    "        tf.keras.layers.Flatten(),\n",
    "        tf.keras.layers.Dense(1024,activation='relu'),\n",
    "        tf.keras.layers.Dropout(0.25),\n",
    "        tf.keras.layers.Dense(512,activation='relu'),\n",
    "        tf.keras.layers.Dense(256,activation='relu'),\n",
    "        tf.keras.layers.Dropout(0.25),\n",
    "        tf.keras.layers.Dense(128,activation='relu'),\n",
    "        tf.keras.layers.Dense(64,activation='relu'),\n",
    "        tf.keras.layers.Dropout(0.25),\n",
    "        tf.keras.layers.Dense(32,activation='relu'),\n",
    "        tf.keras.layers.Dense(16,activation='relu'),\n",
    "        tf.keras.layers.Dense(2,activation='softmax')\n",
    "    ]\n",
    ")"
   ]
  },
  {
   "cell_type": "code",
   "execution_count": 94,
   "id": "d7cff458-71da-4c69-bad7-e5c4d6aa32c7",
   "metadata": {},
   "outputs": [],
   "source": [
    "model.compile(optimizer=tf.keras.optimizers.Adam(learning_rate=0.001),loss=tf.keras.losses.SparseCategoricalCrossentropy(),metrics=['accuracy'])"
   ]
  },
  {
   "cell_type": "code",
   "execution_count": 95,
   "id": "1ada790d-811c-468e-ad23-8a1787ddaee3",
   "metadata": {},
   "outputs": [
    {
     "name": "stdout",
     "output_type": "stream",
     "text": [
      "Model: \"sequential_12\"\n",
      "_________________________________________________________________\n",
      " Layer (type)                Output Shape              Param #   \n",
      "=================================================================\n",
      " rescaling_14 (Rescaling)    (None, 224, 224, 3)       0         \n",
      "                                                                 \n",
      " conv2d_120 (Conv2D)         (None, 222, 222, 32)      896       \n",
      "                                                                 \n",
      " conv2d_121 (Conv2D)         (None, 220, 220, 32)      9248      \n",
      "                                                                 \n",
      " batch_normalization_24 (Bat  (None, 220, 220, 32)     128       \n",
      " chNormalization)                                                \n",
      "                                                                 \n",
      " max_pooling2d_56 (MaxPoolin  (None, 110, 110, 32)     0         \n",
      " g2D)                                                            \n",
      "                                                                 \n",
      " conv2d_122 (Conv2D)         (None, 108, 108, 64)      18496     \n",
      "                                                                 \n",
      " conv2d_123 (Conv2D)         (None, 106, 106, 64)      36928     \n",
      "                                                                 \n",
      " batch_normalization_25 (Bat  (None, 106, 106, 64)     256       \n",
      " chNormalization)                                                \n",
      "                                                                 \n",
      " max_pooling2d_57 (MaxPoolin  (None, 53, 53, 64)       0         \n",
      " g2D)                                                            \n",
      "                                                                 \n",
      " conv2d_124 (Conv2D)         (None, 51, 51, 128)       73856     \n",
      "                                                                 \n",
      " conv2d_125 (Conv2D)         (None, 49, 49, 128)       147584    \n",
      "                                                                 \n",
      " batch_normalization_26 (Bat  (None, 49, 49, 128)      512       \n",
      " chNormalization)                                                \n",
      "                                                                 \n",
      " max_pooling2d_58 (MaxPoolin  (None, 24, 24, 128)      0         \n",
      " g2D)                                                            \n",
      "                                                                 \n",
      " conv2d_126 (Conv2D)         (None, 22, 22, 256)       295168    \n",
      "                                                                 \n",
      " conv2d_127 (Conv2D)         (None, 20, 20, 256)       590080    \n",
      "                                                                 \n",
      " batch_normalization_27 (Bat  (None, 20, 20, 256)      1024      \n",
      " chNormalization)                                                \n",
      "                                                                 \n",
      " max_pooling2d_59 (MaxPoolin  (None, 10, 10, 256)      0         \n",
      " g2D)                                                            \n",
      "                                                                 \n",
      " conv2d_128 (Conv2D)         (None, 8, 8, 512)         1180160   \n",
      "                                                                 \n",
      " conv2d_129 (Conv2D)         (None, 6, 6, 1024)        4719616   \n",
      "                                                                 \n",
      " batch_normalization_28 (Bat  (None, 6, 6, 1024)       4096      \n",
      " chNormalization)                                                \n",
      "                                                                 \n",
      " max_pooling2d_60 (MaxPoolin  (None, 3, 3, 1024)       0         \n",
      " g2D)                                                            \n",
      "                                                                 \n",
      " flatten_14 (Flatten)        (None, 9216)              0         \n",
      "                                                                 \n",
      " dense_81 (Dense)            (None, 1024)              9438208   \n",
      "                                                                 \n",
      " dropout_16 (Dropout)        (None, 1024)              0         \n",
      "                                                                 \n",
      " dense_82 (Dense)            (None, 512)               524800    \n",
      "                                                                 \n",
      " dense_83 (Dense)            (None, 256)               131328    \n",
      "                                                                 \n",
      " dropout_17 (Dropout)        (None, 256)               0         \n",
      "                                                                 \n",
      " dense_84 (Dense)            (None, 128)               32896     \n",
      "                                                                 \n",
      " dense_85 (Dense)            (None, 64)                8256      \n",
      "                                                                 \n",
      " dropout_18 (Dropout)        (None, 64)                0         \n",
      "                                                                 \n",
      " dense_86 (Dense)            (None, 32)                2080      \n",
      "                                                                 \n",
      " dense_87 (Dense)            (None, 16)                528       \n",
      "                                                                 \n",
      " dense_88 (Dense)            (None, 2)                 34        \n",
      "                                                                 \n",
      "=================================================================\n",
      "Total params: 17,216,178\n",
      "Trainable params: 17,213,170\n",
      "Non-trainable params: 3,008\n",
      "_________________________________________________________________\n"
     ]
    }
   ],
   "source": [
    "model.summary()"
   ]
  },
  {
   "cell_type": "code",
   "execution_count": 97,
   "id": "32d885ad-e1b2-4f33-8f04-703464f3404b",
   "metadata": {},
   "outputs": [
    {
     "name": "stdout",
     "output_type": "stream",
     "text": [
      "Epoch 1/20\n",
      "563/563 - 156s - loss: 0.1381 - accuracy: 0.9447 - val_loss: 0.2810 - val_accuracy: 0.8724 - 156s/epoch - 277ms/step\n",
      "Epoch 2/20\n",
      "563/563 - 154s - loss: 0.1191 - accuracy: 0.9544 - val_loss: 0.6393 - val_accuracy: 0.6820 - 154s/epoch - 274ms/step\n",
      "Epoch 3/20\n",
      "563/563 - 154s - loss: 0.1106 - accuracy: 0.9591 - val_loss: 0.2806 - val_accuracy: 0.9004 - 154s/epoch - 274ms/step\n",
      "Epoch 4/20\n",
      "563/563 - 155s - loss: 0.0897 - accuracy: 0.9666 - val_loss: 0.1690 - val_accuracy: 0.9308 - 155s/epoch - 275ms/step\n",
      "Epoch 5/20\n",
      "563/563 - 154s - loss: 0.0858 - accuracy: 0.9686 - val_loss: 0.5507 - val_accuracy: 0.8448 - 154s/epoch - 273ms/step\n",
      "Epoch 6/20\n",
      "563/563 - 154s - loss: 0.0646 - accuracy: 0.9771 - val_loss: 0.2077 - val_accuracy: 0.9324 - 154s/epoch - 274ms/step\n",
      "Epoch 7/20\n",
      "563/563 - 155s - loss: 0.0708 - accuracy: 0.9749 - val_loss: 0.3628 - val_accuracy: 0.9024 - 155s/epoch - 275ms/step\n",
      "Epoch 8/20\n",
      "563/563 - 154s - loss: 0.0508 - accuracy: 0.9823 - val_loss: 0.3211 - val_accuracy: 0.8668 - 154s/epoch - 273ms/step\n",
      "Epoch 9/20\n",
      "563/563 - 155s - loss: 0.0470 - accuracy: 0.9844 - val_loss: 0.2179 - val_accuracy: 0.9256 - 155s/epoch - 275ms/step\n",
      "Epoch 10/20\n",
      "563/563 - 154s - loss: 0.0623 - accuracy: 0.9783 - val_loss: 0.3364 - val_accuracy: 0.9028 - 154s/epoch - 274ms/step\n",
      "Epoch 11/20\n",
      "563/563 - 155s - loss: 0.0469 - accuracy: 0.9841 - val_loss: 2.6758 - val_accuracy: 0.5024 - 155s/epoch - 275ms/step\n",
      "Epoch 12/20\n",
      "563/563 - 154s - loss: 0.0676 - accuracy: 0.9767 - val_loss: 0.3517 - val_accuracy: 0.9140 - 154s/epoch - 274ms/step\n",
      "Epoch 13/20\n",
      "563/563 - 154s - loss: 0.0389 - accuracy: 0.9876 - val_loss: 0.9670 - val_accuracy: 0.5080 - 154s/epoch - 274ms/step\n",
      "Epoch 14/20\n",
      "563/563 - 154s - loss: 0.0447 - accuracy: 0.9863 - val_loss: 0.6759 - val_accuracy: 0.7600 - 154s/epoch - 274ms/step\n",
      "Epoch 15/20\n",
      "563/563 - 154s - loss: 0.0451 - accuracy: 0.9860 - val_loss: 0.2654 - val_accuracy: 0.9300 - 154s/epoch - 274ms/step\n",
      "Epoch 16/20\n",
      "563/563 - 154s - loss: 0.0407 - accuracy: 0.9880 - val_loss: 0.3223 - val_accuracy: 0.9308 - 154s/epoch - 274ms/step\n",
      "Epoch 17/20\n",
      "563/563 - 155s - loss: 0.0376 - accuracy: 0.9891 - val_loss: 0.3453 - val_accuracy: 0.9312 - 155s/epoch - 275ms/step\n",
      "Epoch 18/20\n",
      "563/563 - 155s - loss: 0.0289 - accuracy: 0.9917 - val_loss: 0.2535 - val_accuracy: 0.9284 - 155s/epoch - 275ms/step\n",
      "Epoch 19/20\n",
      "563/563 - 155s - loss: 0.0337 - accuracy: 0.9896 - val_loss: 0.3803 - val_accuracy: 0.8904 - 155s/epoch - 275ms/step\n",
      "Epoch 20/20\n",
      "563/563 - 155s - loss: 0.0207 - accuracy: 0.9942 - val_loss: 0.2618 - val_accuracy: 0.9260 - 155s/epoch - 275ms/step\n"
     ]
    }
   ],
   "source": [
    "history=model.fit(train_data,epochs=20,batch_size=32,validation_data=valid_data,verbose=2)"
   ]
  },
  {
   "cell_type": "code",
   "execution_count": 99,
   "id": "18eb71f8-7192-42eb-bfb2-fc5630df7f08",
   "metadata": {},
   "outputs": [
    {
     "name": "stdout",
     "output_type": "stream",
     "text": [
      "63/63 [==============================] - 5s 70ms/step - loss: 0.2228 - accuracy: 0.9335\n"
     ]
    }
   ],
   "source": [
    "loss,acc=model.evaluate(test_data)"
   ]
  },
  {
   "cell_type": "code",
   "execution_count": 103,
   "id": "eb705518-1da4-4c97-9fb1-19a9c4d7eabb",
   "metadata": {},
   "outputs": [
    {
     "name": "stdout",
     "output_type": "stream",
     "text": [
      "Model accuracy : 93.35 %\n"
     ]
    }
   ],
   "source": [
    "print(f'Model accuracy : {acc*100 :.2f} %')"
   ]
  },
  {
   "cell_type": "code",
   "execution_count": 105,
   "id": "d4e798d5-af85-4f76-9720-3d2e0978a310",
   "metadata": {},
   "outputs": [
    {
     "data": {
      "image/png": "[encoded data removed]",
      "text/plain": [
       "<Figure size 640x480 with 1 Axes>"
      ]
     },
     "metadata": {},
     "output_type": "display_data"
    },
    {
     "data": {
      "image/png": "[encoded data removed]",
      "text/plain": [
       "<Figure size 640x480 with 1 Axes>"
      ]
     },
     "metadata": {},
     "output_type": "display_data"
    }
   ],
   "source": [
    "accuracy = history.history[\"accuracy\"]\n",
    "val_accuracy = history.history[\"val_accuracy\"]\n",
    "loss = history.history[\"loss\"]\n",
    "val_loss = history.history[\"val_loss\"]\n",
    "epochs = range(1, len(accuracy) + 1)\n",
    "plt.plot(epochs, accuracy, label=\"Training accuracy\")\n",
    "plt.plot(epochs, val_accuracy, label=\"Validation accuracy\")\n",
    "plt.title(\"Training and validation accuracy\")\n",
    "plt.legend()\n",
    "plt.figure()\n",
    "plt.plot(epochs, loss, label=\"Training loss\")\n",
    "plt.plot(epochs, val_loss, label=\"Validation loss\")\n",
    "plt.title(\"Training and validation loss\")\n",
    "plt.legend()\n",
    "plt.show()"
   ]
  },
  {
   "cell_type": "code",
   "execution_count": 111,
   "id": "64497724-674c-4768-8178-c4fc2187f9eb",
   "metadata": {},
   "outputs": [
    {
     "name": "stdout",
     "output_type": "stream",
     "text": [
      "63/63 [==============================] - 4s 70ms/step\n",
      "Confusion Matrix:\n",
      "[[924  76]\n",
      " [ 57 943]]\n",
      "Classification Report:\n",
      "              precision    recall  f1-score   support\n",
      "\n",
      "         Cat       0.94      0.92      0.93      1000\n",
      "         Dog       0.93      0.94      0.93      1000\n",
      "\n",
      "    accuracy                           0.93      2000\n",
      "   macro avg       0.93      0.93      0.93      2000\n",
      "weighted avg       0.93      0.93      0.93      2000\n",
      "\n"
     ]
    }
   ],
   "source": [
    "# Import required libraries\n",
    "from sklearn.metrics import confusion_matrix, classification_report\n",
    "import numpy as np\n",
    "\n",
    "# Get true labels from the test data\n",
    "y_true = test_data.classes\n",
    "\n",
    "# Get model predictions (probabilities) and convert to class labels\n",
    "y_pred_probs = model.predict(test_data)\n",
    "y_pred = np.argmax(y_pred_probs, axis=1)\n",
    "\n",
    "# Compute and print the confusion matrix\n",
    "cm = confusion_matrix(y_true, y_pred)\n",
    "print(\"Confusion Matrix:\")\n",
    "print(cm)\n",
    "\n",
    "# Compute and print the classification report\n",
    "print(\"Classification Report:\")\n",
    "print(classification_report(y_true, y_pred, target_names=[\"Cat\", \"Dog\"]))"
   ]
  },
  {
   "cell_type": "code",
   "execution_count": null,
   "id": "c130b9fa-96e9-409c-b97b-730c669baa08",
   "metadata": {},
   "outputs": [],
   "source": []
  }
 ],
 "metadata": {
  "kernelspec": {
   "display_name": "Python 3 (ipykernel)",
   "language": "python",
   "name": "python3"
  },
  "language_info": {
   "codemirror_mode": {
    "name": "ipython",
    "version": 3
   },
   "file_extension": ".py",
   "mimetype": "text/x-python",
   "name": "python",
   "nbconvert_exporter": "python",
   "pygments_lexer": "ipython3",
   "version": "3.12.7"
  }
 },
 "nbformat": 4,
 "nbformat_minor": 5
}
