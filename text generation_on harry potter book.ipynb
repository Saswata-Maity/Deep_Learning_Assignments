{
 "cells": [
  {
   "cell_type": "code",
   "execution_count": null,
   "id": "724e8438-a2c0-4bdf-a770-2e0e47148455",
   "metadata": {},
   "outputs": [],
   "source": [
    "Assignment 3: Text Generation with LSTM \n",
    "Objective: \n",
    "Use LSTM to generate text based on a large corpus, such as song lyrics or book excerpts. \n",
    "Dataset: \n",
    "Kaggle - Song Lyrics \n",
    "Alternatively, use public domain books from Project Gutenberg. \n",
    "Steps: \n",
    "1. Data Preprocessing \n",
    "o Load the dataset into a DataFrame or read from a text file. \n",
    "o Convert all text to lowercase and remove special characters. \n",
    "o Tokenize and encode characters into integers. \n",
    "o Create sequences of fixed length (e.g., 50 characters). \n",
    "2. Model Development \n",
    "o Build an LSTM model with: \n",
    "Embedding layer (character-level or word-level embeddings). \n",
    "2 LSTM layers with 256 and 128 units. \n",
    "Dropout layers to prevent overfitting. \n",
    "Dense output layer with softmax activation. \n",
    "o Compile with categorical_crossentropy loss and adam optimizer. \n",
    "3. Training and Generation \n",
    "o Train the model on the text sequences. \n",
    "o Use the model to generate new text, given a seed phrase. \n",
    "o Adjust temperature parameter to control creativity. \n",
    "Evaluation Criteria: \n",
    "Coherence and fluency of the generated text. \n",
    "Ability to generate creative and meaningful sequences. \n",
    " Model convergence and generalization."
   ]
  },
  {
   "cell_type": "code",
   "execution_count": 1,
   "id": "53c2579b-1d34-40c7-93ea-b8649e0f7d9b",
   "metadata": {},
   "outputs": [
    {
     "name": "stderr",
     "output_type": "stream",
     "text": [
      "C:\\Users\\SASWATA\\.conda\\envs\\gpusupport\\lib\\site-packages\\tqdm\\auto.py:21: TqdmWarning: IProgress not found. Please update jupyter and ipywidgets. See https://ipywidgets.readthedocs.io/en/stable/user_install.html\n",
      "  from .autonotebook import tqdm as notebook_tqdm\n"
     ]
    },
    {
     "name": "stdout",
     "output_type": "stream",
     "text": [
      "Warning: Looks like you're using an outdated `kagglehub` version (installed: 0.3.10), please consider upgrading to the latest version (0.3.11).\n",
      "Downloading from https://www.kaggle.com/api/v1/datasets/download/shubhammaindola/harry-potter-books?dataset_version_number=1...\n"
     ]
    },
    {
     "name": "stderr",
     "output_type": "stream",
     "text": [
      "100%|█████████████████████████████████████████████████████████████████████████████| 2.28M/2.28M [00:01<00:00, 1.58MB/s]"
     ]
    },
    {
     "name": "stdout",
     "output_type": "stream",
     "text": [
      "Extracting files...\n",
      "Path to dataset files: C:\\Users\\SASWATA\\.cache\\kagglehub\\datasets\\shubhammaindola\\harry-potter-books\\versions\\1\n"
     ]
    },
    {
     "name": "stderr",
     "output_type": "stream",
     "text": [
      "\n"
     ]
    }
   ],
   "source": [
    "import kagglehub\n",
    "\n",
    "# Download latest version\n",
    "path = kagglehub.dataset_download(\"shubhammaindola/harry-potter-books\")\n",
    "\n",
    "print(\"Path to dataset files:\", path)"
   ]
  },
  {
   "cell_type": "code",
   "execution_count": 1,
   "id": "eb283567-239a-48e1-9cbc-7a2f5170bdce",
   "metadata": {},
   "outputs": [],
   "source": [
    "first_book_path=r\"C:\\Users\\SASWATA\\.cache\\kagglehub\\datasets\\shubhammaindola\\harry-potter-books\\versions\\1\\01 Harry Potter and the Sorcerers Stone.txt\"\n",
    "second_book_path=r\"C:\\Users\\SASWATA\\.cache\\kagglehub\\datasets\\shubhammaindola\\harry-potter-books\\versions\\1\\02 Harry Potter and the Chamber of Secrets.txt\"\n",
    "third_book_path=r\"C:\\Users\\SASWATA\\.cache\\kagglehub\\datasets\\shubhammaindola\\harry-potter-books\\versions\\1\\03 Harry Potter and the Prisoner of Azkaban.txt\"\n",
    "fourth_book_path=r\"C:\\Users\\SASWATA\\.cache\\kagglehub\\datasets\\shubhammaindola\\harry-potter-books\\versions\\1\\04 Harry Potter and the Goblet of Fire.txt\"\n",
    "fifth_book_path=r\"C:\\Users\\SASWATA\\.cache\\kagglehub\\datasets\\shubhammaindola\\harry-potter-books\\versions\\1\\05 Harry Potter and the Order of the Phoenix.txt\"\n",
    "sixth_book_path=r\"C:\\Users\\SASWATA\\.cache\\kagglehub\\datasets\\shubhammaindola\\harry-potter-books\\versions\\1\\06 Harry Potter and the Half-Blood Prince.txt\"\n",
    "seventh_book_path=r\"C:\\Users\\SASWATA\\.cache\\kagglehub\\datasets\\shubhammaindola\\harry-potter-books\\versions\\1\\07 Harry Potter and the Deathly Hallows.txt\""
   ]
  },
  {
   "cell_type": "code",
   "execution_count": 46,
   "id": "82867f16-0a69-45df-8aad-a8c4ad4f3e77",
   "metadata": {},
   "outputs": [],
   "source": [
    "import re\n",
    "import numpy as np\n",
    "import tensorflow as tf\n",
    "from tensorflow.keras.preprocessing.text import Tokenizer\n",
    "from tensorflow.keras.preprocessing.sequence import pad_sequences"
   ]
  },
  {
   "cell_type": "code",
   "execution_count": 3,
   "id": "1e4155d8-fe71-4a71-b496-82760d4a89bf",
   "metadata": {},
   "outputs": [],
   "source": [
    "def process_text(corpus):\n",
    "    text=re.sub(r'[^a-z0-9\\s\\.\\,\\;\\:\\!\\?\\'\\\"]', ' ',corpus)#remove puncutations and unwanted chars\n",
    "    text = re.sub(r'\\s+', ' ', text).strip() # removing multiple spaces\n",
    "    return text"
   ]
  },
  {
   "cell_type": "code",
   "execution_count": 4,
   "id": "b99a8be4-1850-4208-8f10-4e9477027992",
   "metadata": {},
   "outputs": [],
   "source": [
    "def tokenize(text):#tokenization\n",
    "    tokenizer=Tokenizer()\n",
    "    tokenizer.fit_on_texts([text])\n",
    "    total_words=len(tokenizer.word_index)+1\n",
    "    return total_words,tokenizer"
   ]
  },
  {
   "cell_type": "code",
   "execution_count": 5,
   "id": "e01a6cf6-df8e-4b84-91c7-83ee74145228",
   "metadata": {},
   "outputs": [],
   "source": [
    "def create_sequences(text, seq_length):\n",
    "    sequences = []\n",
    "    words = text.split()\n",
    "    for i in range(0, len(words) - seq_length + 1):\n",
    "        seq = words[i:i + seq_length]\n",
    "        sequences.append(' '.join(seq))\n",
    "    return sequences"
   ]
  },
  {
   "cell_type": "code",
   "execution_count": 6,
   "id": "e4841f52-80c7-4c06-86ae-27906e3359b7",
   "metadata": {},
   "outputs": [],
   "source": [
    "def convert_to_integer_seq_and_pad(sequence_text, tokenizer, seq_length):\n",
    "    sequences = tokenizer.texts_to_sequences(sequence_text)\n",
    "    sequences = pad_sequences(sequences, maxlen=seq_length, padding='pre')\n",
    "    X = sequences[:, :-1]  # Input: all tokens except the last\n",
    "    y = sequences[:, -1]   # Target: last token\n",
    "    #vocab_size = len(tokenizer.word_index) + 1\n",
    "    #y = tf.keras.utils.to_categorical(y, num_classes=vocab_size)\n",
    "    return X, y"
   ]
  },
  {
   "cell_type": "code",
   "execution_count": 7,
   "id": "48b62529-d08d-4e07-9c0c-8bb5d9060f8a",
   "metadata": {},
   "outputs": [],
   "source": [
    "def create_model(input_dim,output_dim,input_length,units,total_words):\n",
    "    model=tf.keras.Sequential(\n",
    "        [\n",
    "            tf.keras.layers.Embedding(input_dim=input_dim,output_dim=output_dim,input_length=input_length),\n",
    "            tf.keras.layers.Bidirectional(tf.keras.layers.LSTM(units,return_sequences=True)),\n",
    "            tf.keras.layers.Dropout(0.15),\n",
    "            tf.keras.layers.Bidirectional(tf.keras.layers.LSTM(units//2,return_sequences=False)),\n",
    "            tf.keras.layers.Dropout(0.25),\n",
    "            tf.keras.layers.Dense(total_words,activation='softmax')\n",
    "        ]\n",
    "    )\n",
    "    return model"
   ]
  },
  {
   "cell_type": "code",
   "execution_count": 42,
   "id": "710315ce-189f-4669-b0fb-87e2c2edfc3a",
   "metadata": {},
   "outputs": [],
   "source": [
    "def sample_with_temperature(preds, temperature=1.0):\n",
    "    preds = np.asarray(preds).astype('float64')\n",
    "    preds = np.log(preds + 1e-8) / temperature\n",
    "    exp_preds = np.exp(preds)\n",
    "    preds = exp_preds / np.sum(exp_preds)\n",
    "    probas = np.random.multinomial(1, preds, 1)\n",
    "    return np.argmax(probas)"
   ]
  },
  {
   "cell_type": "code",
   "execution_count": 44,
   "id": "b84d413c-c299-42ad-ab10-08c77b4e3ce5",
   "metadata": {},
   "outputs": [],
   "source": [
    "def generate_text(seed_text, next_words=50, temperature=1.0):\n",
    "    for _ in range(next_words):\n",
    "        token_list = tokenizer.texts_to_sequences([seed_text])[0]\n",
    "        token_list = pad_sequences([token_list], maxlen=seq_length-1, padding='pre')\n",
    "        preds = model.predict(token_list, verbose=0)[0]\n",
    "        next_index = sample_with_temperature(preds, temperature)\n",
    "        next_word = tokenizer.index_word.get(next_index, '')\n",
    "        seed_text += ' ' + next_word\n",
    "    return seed_text"
   ]
  },
  {
   "cell_type": "code",
   "execution_count": 10,
   "id": "5b4d754e-c70d-4931-ba56-fade913f1cf9",
   "metadata": {},
   "outputs": [],
   "source": [
    "with open(first_book_path, 'r', encoding='utf-8') as f:\n",
    "    text1 = f.read().lower()\n",
    "with open(second_book_path, 'r', encoding='utf-8') as f:\n",
    "    text2 = f.read().lower()\n",
    "with open(third_book_path, 'r', encoding='utf-8') as f:\n",
    "    text3 = f.read().lower()\n",
    "with open(fourth_book_path, 'r', encoding='utf-8') as f:\n",
    "    text4 = f.read().lower()\n",
    "with open(fifth_book_path, 'r', encoding='utf-8') as f:\n",
    "    text5 = f.read().lower()\n",
    "with open(sixth_book_path, 'r', encoding='utf-8') as f:\n",
    "    text6 = f.read().lower()\n",
    "with open(seventh_book_path, 'r', encoding='utf-8') as f:\n",
    "    text7 = f.read().lower()"
   ]
  },
  {
   "cell_type": "code",
   "execution_count": 25,
   "id": "b690a034-856b-4bfc-88e4-38bc8622f39a",
   "metadata": {},
   "outputs": [],
   "source": [
    "corpus=text1 #+ '\\n' +text2 + '\\n' +text3 + '\\n' +text4 + '\\n' +text5 + '\\n' +text6 + '\\n' +text7 #entire seven boook corpus"
   ]
  },
  {
   "cell_type": "code",
   "execution_count": 26,
   "id": "c259850e-ca6f-43bf-9ae3-8bcff8ecb1db",
   "metadata": {},
   "outputs": [],
   "source": [
    "cleaned_corpus=process_text(corpus)"
   ]
  },
  {
   "cell_type": "code",
   "execution_count": 27,
   "id": "f5ab3eec-c4a7-49ba-b098-90986a3911ac",
   "metadata": {},
   "outputs": [],
   "source": [
    "total_words,tokenizer=tokenize(cleaned_corpus)"
   ]
  },
  {
   "cell_type": "code",
   "execution_count": 28,
   "id": "3819c9e3-8168-42a9-8d9a-3308470453c9",
   "metadata": {},
   "outputs": [],
   "source": [
    "seq_length = 250\n",
    "sequences = create_sequences(cleaned_corpus, seq_length)\n",
    "X, y = convert_to_integer_seq_and_pad(sequences, tokenizer, seq_length)"
   ]
  },
  {
   "cell_type": "code",
   "execution_count": 29,
   "id": "e32aaf26-410a-49fc-9613-ff03554c39cf",
   "metadata": {},
   "outputs": [],
   "source": [
    "vocab_size = len(tokenizer.word_index) + 1"
   ]
  },
  {
   "cell_type": "code",
   "execution_count": 36,
   "id": "81158d64-7f91-49aa-a00e-a081004b74b4",
   "metadata": {},
   "outputs": [],
   "source": [
    "model = create_model(input_dim=total_words, output_dim=10000, input_length=seq_length - 1, units=256, total_words=total_words)"
   ]
  },
  {
   "cell_type": "code",
   "execution_count": 37,
   "id": "7a8453aa-a2dd-405b-80a4-3a42b9d50986",
   "metadata": {},
   "outputs": [
    {
     "name": "stdout",
     "output_type": "stream",
     "text": [
      "Model: \"sequential_4\"\n",
      "_________________________________________________________________\n",
      " Layer (type)                Output Shape              Param #   \n",
      "=================================================================\n",
      " embedding_4 (Embedding)     (None, 249, 10000)        57370000  \n",
      "                                                                 \n",
      " bidirectional_8 (Bidirectio  (None, 249, 512)         21006336  \n",
      " nal)                                                            \n",
      "                                                                 \n",
      " dropout_8 (Dropout)         (None, 249, 512)          0         \n",
      "                                                                 \n",
      " bidirectional_9 (Bidirectio  (None, 256)              656384    \n",
      " nal)                                                            \n",
      "                                                                 \n",
      " dropout_9 (Dropout)         (None, 256)               0         \n",
      "                                                                 \n",
      " dense_4 (Dense)             (None, 5737)              1474409   \n",
      "                                                                 \n",
      "=================================================================\n",
      "Total params: 80,507,129\n",
      "Trainable params: 80,507,129\n",
      "Non-trainable params: 0\n",
      "_________________________________________________________________\n"
     ]
    }
   ],
   "source": [
    "model.summary()"
   ]
  },
  {
   "cell_type": "code",
   "execution_count": 38,
   "id": "c0f3192d-129c-40bb-aed8-5a4d245d6377",
   "metadata": {},
   "outputs": [],
   "source": [
    "model.compile(loss='sparse_categorical_crossentropy', optimizer=tf.keras.optimizers.Adam(learning_rate=0.001), metrics=['accuracy'])"
   ]
  },
  {
   "cell_type": "code",
   "execution_count": 39,
   "id": "03b3294e-3371-4f63-84fe-99e19cdecd9c",
   "metadata": {},
   "outputs": [
    {
     "name": "stdout",
     "output_type": "stream",
     "text": [
      "Epoch 1/75\n",
      "2519/2519 [==============================] - 398s 157ms/step - loss: 6.2246 - accuracy: 0.0811\n",
      "Epoch 2/75\n",
      "2519/2519 [==============================] - 396s 157ms/step - loss: 5.6426 - accuracy: 0.1146\n",
      "Epoch 3/75\n",
      "2519/2519 [==============================] - 396s 157ms/step - loss: 5.3504 - accuracy: 0.1289\n",
      "Epoch 4/75\n",
      "2519/2519 [==============================] - 395s 157ms/step - loss: 5.1212 - accuracy: 0.1385\n",
      "Epoch 5/75\n",
      "2519/2519 [==============================] - 396s 157ms/step - loss: 4.9105 - accuracy: 0.1473\n",
      "Epoch 6/75\n",
      "2519/2519 [==============================] - 396s 157ms/step - loss: 4.7086 - accuracy: 0.1588\n",
      "Epoch 7/75\n",
      "2519/2519 [==============================] - 396s 157ms/step - loss: 4.5273 - accuracy: 0.1655\n",
      "Epoch 8/75\n",
      "2519/2519 [==============================] - 395s 157ms/step - loss: 4.3531 - accuracy: 0.1760\n",
      "Epoch 9/75\n",
      "2519/2519 [==============================] - 396s 157ms/step - loss: 4.1993 - accuracy: 0.1862\n",
      "Epoch 10/75\n",
      "2519/2519 [==============================] - 396s 157ms/step - loss: 4.0590 - accuracy: 0.1965\n",
      "Epoch 11/75\n",
      "2519/2519 [==============================] - 396s 157ms/step - loss: 3.9314 - accuracy: 0.2076\n",
      "Epoch 12/75\n",
      "2519/2519 [==============================] - 396s 157ms/step - loss: 3.8374 - accuracy: 0.2174\n",
      "Epoch 13/75\n",
      "2519/2519 [==============================] - 396s 157ms/step - loss: 3.7437 - accuracy: 0.2266\n",
      "Epoch 14/75\n",
      "2519/2519 [==============================] - 395s 157ms/step - loss: 3.6644 - accuracy: 0.2367\n",
      "Epoch 15/75\n",
      "2519/2519 [==============================] - 395s 157ms/step - loss: 3.5918 - accuracy: 0.2451\n",
      "Epoch 16/75\n",
      "2519/2519 [==============================] - 396s 157ms/step - loss: 3.5252 - accuracy: 0.2534\n",
      "Epoch 17/75\n",
      "2519/2519 [==============================] - 396s 157ms/step - loss: 3.4735 - accuracy: 0.2585\n",
      "Epoch 18/75\n",
      "2519/2519 [==============================] - 395s 157ms/step - loss: 3.4248 - accuracy: 0.2655\n",
      "Epoch 19/75\n",
      "2519/2519 [==============================] - 395s 157ms/step - loss: 3.3795 - accuracy: 0.2717\n",
      "Epoch 20/75\n",
      "2519/2519 [==============================] - 396s 157ms/step - loss: 3.3436 - accuracy: 0.2788\n",
      "Epoch 21/75\n",
      "2519/2519 [==============================] - 396s 157ms/step - loss: 3.3096 - accuracy: 0.2814\n",
      "Epoch 22/75\n",
      "2519/2519 [==============================] - 396s 157ms/step - loss: 3.2946 - accuracy: 0.2833\n",
      "Epoch 23/75\n",
      "2519/2519 [==============================] - 396s 157ms/step - loss: 3.2647 - accuracy: 0.2864\n",
      "Epoch 24/75\n",
      "2519/2519 [==============================] - 396s 157ms/step - loss: 3.2413 - accuracy: 0.2902\n",
      "Epoch 25/75\n",
      "2519/2519 [==============================] - 395s 157ms/step - loss: 3.2164 - accuracy: 0.2929\n",
      "Epoch 26/75\n",
      "2519/2519 [==============================] - 395s 157ms/step - loss: 3.1969 - accuracy: 0.2971\n",
      "Epoch 27/75\n",
      "2519/2519 [==============================] - 395s 157ms/step - loss: 3.1884 - accuracy: 0.2968\n",
      "Epoch 28/75\n",
      "2519/2519 [==============================] - 395s 157ms/step - loss: 3.1665 - accuracy: 0.3002\n",
      "Epoch 29/75\n",
      "2519/2519 [==============================] - 396s 157ms/step - loss: 3.1517 - accuracy: 0.3011\n",
      "Epoch 30/75\n",
      "2519/2519 [==============================] - 396s 157ms/step - loss: 3.1486 - accuracy: 0.3016\n",
      "Epoch 31/75\n",
      "2519/2519 [==============================] - 396s 157ms/step - loss: 3.1299 - accuracy: 0.3054\n",
      "Epoch 32/75\n",
      "2519/2519 [==============================] - 396s 157ms/step - loss: 3.1245 - accuracy: 0.3060\n",
      "Epoch 33/75\n",
      "2519/2519 [==============================] - 396s 157ms/step - loss: 3.1004 - accuracy: 0.3088\n",
      "Epoch 34/75\n",
      "2519/2519 [==============================] - 396s 157ms/step - loss: 3.0902 - accuracy: 0.3096\n",
      "Epoch 35/75\n",
      "2519/2519 [==============================] - 396s 157ms/step - loss: 3.0762 - accuracy: 0.3141\n",
      "Epoch 36/75\n",
      "2519/2519 [==============================] - 396s 157ms/step - loss: 3.0797 - accuracy: 0.3104\n",
      "Epoch 37/75\n",
      "2519/2519 [==============================] - 396s 157ms/step - loss: 3.0797 - accuracy: 0.3113\n",
      "Epoch 38/75\n",
      "2519/2519 [==============================] - 396s 157ms/step - loss: 3.0651 - accuracy: 0.3129\n",
      "Epoch 39/75\n",
      "2519/2519 [==============================] - 395s 157ms/step - loss: 3.0690 - accuracy: 0.3108\n",
      "Epoch 40/75\n",
      "2519/2519 [==============================] - 396s 157ms/step - loss: 3.0650 - accuracy: 0.3123\n",
      "Epoch 41/75\n",
      "2519/2519 [==============================] - 396s 157ms/step - loss: 3.0483 - accuracy: 0.3148\n",
      "Epoch 42/75\n",
      "2519/2519 [==============================] - 395s 157ms/step - loss: 3.0492 - accuracy: 0.3136\n",
      "Epoch 43/75\n",
      "2519/2519 [==============================] - 395s 157ms/step - loss: 3.0524 - accuracy: 0.3137\n",
      "Epoch 44/75\n",
      "2519/2519 [==============================] - 395s 157ms/step - loss: 3.0424 - accuracy: 0.3150\n",
      "Epoch 45/75\n",
      "2519/2519 [==============================] - 395s 157ms/step - loss: 3.0346 - accuracy: 0.3175\n",
      "Epoch 46/75\n",
      "2519/2519 [==============================] - 396s 157ms/step - loss: 3.0296 - accuracy: 0.3168\n",
      "Epoch 47/75\n",
      "2519/2519 [==============================] - 396s 157ms/step - loss: 3.0189 - accuracy: 0.3175\n",
      "Epoch 48/75\n",
      "2519/2519 [==============================] - 396s 157ms/step - loss: 3.0093 - accuracy: 0.3191\n",
      "Epoch 49/75\n",
      "2519/2519 [==============================] - 396s 157ms/step - loss: 3.0156 - accuracy: 0.3183\n",
      "Epoch 50/75\n",
      "2519/2519 [==============================] - 396s 157ms/step - loss: 2.9995 - accuracy: 0.3212\n",
      "Epoch 51/75\n",
      "2519/2519 [==============================] - 397s 157ms/step - loss: 2.9954 - accuracy: 0.3221\n",
      "Epoch 52/75\n",
      "2519/2519 [==============================] - 396s 157ms/step - loss: 2.9943 - accuracy: 0.3224\n",
      "Epoch 53/75\n",
      "2519/2519 [==============================] - 396s 157ms/step - loss: 2.9858 - accuracy: 0.3253\n",
      "Epoch 54/75\n",
      "2519/2519 [==============================] - 396s 157ms/step - loss: 2.9783 - accuracy: 0.3238\n",
      "Epoch 55/75\n",
      "2519/2519 [==============================] - 396s 157ms/step - loss: 2.9844 - accuracy: 0.3237\n",
      "Epoch 56/75\n",
      "2519/2519 [==============================] - 396s 157ms/step - loss: 2.9778 - accuracy: 0.3236\n",
      "Epoch 57/75\n",
      "2519/2519 [==============================] - 396s 157ms/step - loss: 2.9621 - accuracy: 0.3254\n",
      "Epoch 58/75\n",
      "2519/2519 [==============================] - 396s 157ms/step - loss: 2.9577 - accuracy: 0.3272\n",
      "Epoch 59/75\n",
      "2519/2519 [==============================] - 397s 157ms/step - loss: 2.9661 - accuracy: 0.3243\n",
      "Epoch 60/75\n",
      "2519/2519 [==============================] - 396s 157ms/step - loss: 2.9602 - accuracy: 0.3269\n",
      "Epoch 61/75\n",
      "2519/2519 [==============================] - 396s 157ms/step - loss: 2.9578 - accuracy: 0.3262\n",
      "Epoch 62/75\n",
      "2519/2519 [==============================] - 396s 157ms/step - loss: 2.9538 - accuracy: 0.3259\n",
      "Epoch 63/75\n",
      "2519/2519 [==============================] - 397s 158ms/step - loss: 2.9566 - accuracy: 0.3248\n",
      "Epoch 64/75\n",
      "2519/2519 [==============================] - 396s 157ms/step - loss: 2.9506 - accuracy: 0.3279\n",
      "Epoch 65/75\n",
      "2519/2519 [==============================] - 396s 157ms/step - loss: 2.9376 - accuracy: 0.3284\n",
      "Epoch 66/75\n",
      "2519/2519 [==============================] - 397s 157ms/step - loss: 2.9418 - accuracy: 0.3297\n",
      "Epoch 67/75\n",
      "2519/2519 [==============================] - 396s 157ms/step - loss: 2.9400 - accuracy: 0.3294\n",
      "Epoch 68/75\n",
      "2519/2519 [==============================] - 396s 157ms/step - loss: 2.9289 - accuracy: 0.3302\n",
      "Epoch 69/75\n",
      "2519/2519 [==============================] - 396s 157ms/step - loss: 2.9219 - accuracy: 0.3313\n",
      "Epoch 70/75\n",
      "2519/2519 [==============================] - 396s 157ms/step - loss: 2.9311 - accuracy: 0.3305\n",
      "Epoch 71/75\n",
      "2519/2519 [==============================] - 397s 157ms/step - loss: 2.9252 - accuracy: 0.3306\n",
      "Epoch 72/75\n",
      "2519/2519 [==============================] - 396s 157ms/step - loss: 2.9283 - accuracy: 0.3294\n",
      "Epoch 73/75\n",
      "2519/2519 [==============================] - 396s 157ms/step - loss: 2.9268 - accuracy: 0.3323\n",
      "Epoch 74/75\n",
      "2519/2519 [==============================] - 400s 159ms/step - loss: 2.9171 - accuracy: 0.3324\n",
      "Epoch 75/75\n",
      "2519/2519 [==============================] - 397s 158ms/step - loss: 2.9119 - accuracy: 0.3324\n"
     ]
    }
   ],
   "source": [
    "history=model.fit(X,y,epochs=75)"
   ]
  },
  {
   "cell_type": "code",
   "execution_count": 47,
   "id": "bb457eee-a34b-4804-8955-144ac705ecbf",
   "metadata": {},
   "outputs": [
    {
     "name": "stdout",
     "output_type": "stream",
     "text": [
      "Generated Text:\n",
      "Once upon a time ollivanders search practice of his voice was he and doing the last month aren t you better do slytherin the stone night if he wanted to say i m top wanted about hard that you walked professor mcgonagall pulled it people are two quite anythin they are make sure back\n"
     ]
    }
   ],
   "source": [
    "seed = \"Once upon a time\"\n",
    "generated = generate_text(seed_text=seed, next_words=50, temperature=1.0)\n",
    "print(\"Generated Text:\")\n",
    "print(generated)"
   ]
  },
  {
   "cell_type": "code",
   "execution_count": 48,
   "id": "64ab93b6-5263-4fba-a059-2329071495e9",
   "metadata": {},
   "outputs": [
    {
     "data": {
      "text/plain": [
       "'Then Harry said quietly then harry and had ever hermione had started a beckoned in the door roared him large slytherin o clock harry swallowed ron and knocked ron joined them was no peering by months by book for this wizard i told somewhere ter returned his broken out harry all could words get down ter horrible owls hagrid petunia tried twin was locked hagrid still raised his envelope up fingers engine malfoy see ran leaving magical important wooden window outside harry and he kept him thick said percy trying on no wonder ron kept a doesn and slightly so bad sleepily came swiftly harry made harry and when then stopped stuff in several but he threw the flickering left a round voice i don t come in slytherin i did mind you sir yer one already this didn t believe in the line back few trembling is sprinting to bill harry lay come on properly on night like against not really wanted who would look the white field that weasley harry who looked extremely six something at yer run aunt petunia folded to the quidditch field was carefully at them busy don t you we d overtake their way until boy now dropped ollivanders five night full of you is see that hagrid would let me behind me yeah for dumbledore who seemed and sleepy it s against a feeling i heard the slytherins t brought himself yeah hermione was fascinated percy after the cat got like something where yeh him was'"
      ]
     },
     "execution_count": 48,
     "metadata": {},
     "output_type": "execute_result"
    }
   ],
   "source": [
    "generate_text(\"Then voldemort said\", next_words=50, temperature=0.5)"
   ]
  },
  {
   "cell_type": "code",
   "execution_count": 51,
   "id": "60c23cae-0026-4e78-8186-121d6cfbf878",
   "metadata": {},
   "outputs": [
    {
     "data": {
      "text/plain": [
       "'Meanwhile at ollivanders Harry was starting to the last time dumbledore was still wearing now a year aren t instead fat way behind them and three quarters showed him stone against the name what they had hardly forgotten what said harry quietly on his feet harry thought in a black eye ron muttered students a video black robes frog and the happy movement on which up were raised feet the stone wonder if mcgonagall s eyes table rippled with their legs robes trees watched it on the table what are you late filch now found professor mcgonagall to greatness with some weeks to the quidditch'"
      ]
     },
     "execution_count": 51,
     "metadata": {},
     "output_type": "execute_result"
    }
   ],
   "source": [
    "generate_text(\"Meanwhile at ollivanders Harry was\", next_words=100, temperature=1.0)"
   ]
  },
  {
   "cell_type": "code",
   "execution_count": 50,
   "id": "37185242-8a32-48ac-8bc9-b373addc67d8",
   "metadata": {},
   "outputs": [
    {
     "data": {
      "text/plain": [
       "'Then Harry said and did say want around feet even when snape off his job old tosh even look hot boy any d have time telling fluffy me start or cheer across their shoulders third white notes are a time better feeling down it holding meddlin looking very frightened can still planets hermione went hermione rolled up em whippy loopy there professor ron heard out his eyes table dumbledore said professor mcgonagall a braver study when unicorn to make harry went on thousands who snape tapped him feet were floating security inside back notes across a wizard mountains with nothing shakily he remembers to find out a whole he could have managed to die and hermione looked desperate just as only said first two like this outta a bit did so a as his mind they know in london snape and she said it broke the note knew it nonsense easier apart is but secret didn t leave more rules all this do quirrell how i don t want you attacked standing yeh hagrid waited ron felt too cold are ours back here eh yeh harry pulled their view is firenze this time two who went slowly her to marked cheers flamel said hagrid stop harry i must have a question house anymore were so aren t seen these frightening in this s opinion an arrow i am my mother caught and i didn t think why the weasley who did make the owls gawked back into a powerful work through dumbledore ron'"
      ]
     },
     "execution_count": 50,
     "metadata": {},
     "output_type": "execute_result"
    }
   ],
   "source": [
    "generate_text(\"Then Harry said\", next_words=250, temperature=1.5)"
   ]
  },
  {
   "cell_type": "code",
   "execution_count": 54,
   "id": "ce188033-849c-479d-9d03-2a06bab71fdb",
   "metadata": {},
   "outputs": [
    {
     "data": {
      "image/png": "[encoded data removed]",
      "text/plain": [
       "<Figure size 640x480 with 1 Axes>"
      ]
     },
     "metadata": {},
     "output_type": "display_data"
    }
   ],
   "source": [
    "import matplotlib.pyplot as plt\n",
    "plt.plot(history.history['loss'], label='train')\n",
    "plt.legend()\n",
    "plt.title(\"Model Loss Over Epochs\")\n",
    "plt.xlabel(\"Epochs\")\n",
    "plt.ylabel(\"Loss\")\n",
    "plt.show()"
   ]
  },
  {
   "cell_type": "code",
   "execution_count": 56,
   "id": "afed4c29-718f-4fcd-b6d4-0e5f676b8e7b",
   "metadata": {},
   "outputs": [
    {
     "data": {
      "image/png": "[encoded data removed]",
      "text/plain": [
       "<Figure size 640x480 with 1 Axes>"
      ]
     },
     "metadata": {},
     "output_type": "display_data"
    }
   ],
   "source": [
    "import matplotlib.pyplot as plt\n",
    "plt.plot(history.history['accuracy'], label='train')\n",
    "plt.legend()\n",
    "plt.title(\"Model training accuracy Over Epochs\")\n",
    "plt.xlabel(\"Epochs\")\n",
    "plt.ylabel(\"Accuracy percentage\")\n",
    "plt.show()"
   ]
  },
  {
   "cell_type": "code",
   "execution_count": null,
   "id": "9cdf321e-8b05-4141-acd9-a42ba254af8d",
   "metadata": {},
   "outputs": [],
   "source": []
  }
 ],
 "metadata": {
  "kernelspec": {
   "display_name": "Python 3 (ipykernel)",
   "language": "python",
   "name": "python3"
  },
  "language_info": {
   "codemirror_mode": {
    "name": "ipython",
    "version": 3
   },
   "file_extension": ".py",
   "mimetype": "text/x-python",
   "name": "python",
   "nbconvert_exporter": "python",
   "pygments_lexer": "ipython3",
   "version": "3.10.16"
  }
 },
 "nbformat": 4,
 "nbformat_minor": 5
}
