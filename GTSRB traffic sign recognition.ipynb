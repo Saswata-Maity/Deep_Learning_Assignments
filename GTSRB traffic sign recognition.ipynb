{
 "cells": [
  {
   "cell_type": "code",
   "execution_count": null,
   "id": "a9613995-120c-478f-9e09-56c3eff9271d",
   "metadata": {},
   "outputs": [],
   "source": [
    "Assignment 5: Traffic Sign Recognition\n",
    "Dataset: German Traffic Sign Recognition Benchmark (GTSRB) (43 traffic sign classes)\n",
    "Task:\n",
    " Build a CNN model to classify traffic signs.\n",
    "Preprocess the images (resize, normalize).\n",
    "Train the model and evaluate performance.\n",
    "Expected Outcomes:\n",
    "Achieve at least 95% accuracy.\n",
    "Display a confusion matrix ."
   ]
  },
  {
   "cell_type": "code",
   "execution_count": 22,
   "id": "7c0e3007-9a35-4d1b-8841-9e85d005848d",
   "metadata": {},
   "outputs": [
    {
     "name": "stdout",
     "output_type": "stream",
     "text": [
      "Downloading from https://www.kaggle.com/api/v1/datasets/download/meowmeowmeowmeowmeow/gtsrb-german-traffic-sign?dataset_version_number=1...\n"
     ]
    },
    {
     "name": "stderr",
     "output_type": "stream",
     "text": [
      "100%|███████████████████████████████████████████████████████████████████████████████| 612M/612M [01:14<00:00, 8.58MB/s]"
     ]
    },
    {
     "name": "stdout",
     "output_type": "stream",
     "text": [
      "Extracting files...\n"
     ]
    },
    {
     "name": "stderr",
     "output_type": "stream",
     "text": [
      "\n"
     ]
    },
    {
     "name": "stdout",
     "output_type": "stream",
     "text": [
      "Path to dataset files: C:\\Users\\Saswata Maity\\.cache\\kagglehub\\datasets\\meowmeowmeowmeowmeow\\gtsrb-german-traffic-sign\\versions\\1\n"
     ]
    }
   ],
   "source": [
    "import kagglehub\n",
    "\n",
    "# Download latest version\n",
    "path = kagglehub.dataset_download(\"meowmeowmeowmeowmeow/gtsrb-german-traffic-sign\")\n",
    "\n",
    "print(\"Path to dataset files:\", path)"
   ]
  },
  {
   "cell_type": "code",
   "execution_count": 59,
   "id": "441d858a-c02a-415d-a68c-9583f70374b7",
   "metadata": {},
   "outputs": [],
   "source": [
    "train_path=r\"C:\\Users\\Saswata Maity\\.cache\\kagglehub\\datasets\\meowmeowmeowmeowmeow\\gtsrb-german-traffic-sign\\versions\\1\\Train\"\n",
    "#valid_path=r\"C:\\Users\\Saswata Maity\\.cache\\kagglehub\\datasets\\meowmeowmeowmeowmeow\\gtsrb-german-traffic-sign\\versions\\1\\Meta\"\n",
    "test_path=r\"C:\\Users\\Saswata Maity\\.cache\\kagglehub\\datasets\\meowmeowmeowmeowmeow\\gtsrb-german-traffic-sign\\versions\\1\""
   ]
  },
  {
   "cell_type": "code",
   "execution_count": 60,
   "id": "ba7d0921-c393-4d8e-9d55-508d4bbe78dc",
   "metadata": {},
   "outputs": [
    {
     "name": "stdout",
     "output_type": "stream",
     "text": [
      "Class Names: ['0', '1', '10', '11', '12', '13', '14', '15', '16', '17', '18', '19', '2', '20', '21', '22', '23', '24', '25', '26', '27', '28', '29', '3', '30', '31', '32', '33', '34', '35', '36', '37', '38', '39', '4', '40', '41', '42', '5', '6', '7', '8', '9']\n",
      "No of images per class: [210, 2220, 2010, 1320, 2100, 2160, 780, 630, 420, 1110, 1200, 210, 2250, 360, 330, 390, 510, 270, 1500, 600, 240, 540, 270, 1410, 450, 780, 240, 689, 420, 1200, 390, 210, 2070, 300, 1980, 360, 240, 240, 1860, 420, 1440, 1410, 1470]\n"
     ]
    }
   ],
   "source": [
    "# Set Image Directory\n",
    "import os\n",
    "image_dir = train_path\n",
    "# Extract class names\n",
    "class_names = sorted(os.listdir(image_dir))\n",
    "\n",
    "# Number of Images\n",
    "n_images = [len(os.listdir(os.path.join(image_dir, name))) for name in class_names]\n",
    "\n",
    "print(f'Class Names: {class_names}')\n",
    "\n",
    "print(f'No of images per class: {n_images}')"
   ]
  },
  {
   "cell_type": "code",
   "execution_count": 61,
   "id": "5b9dc893-5b99-4885-ac1e-518339e7704a",
   "metadata": {},
   "outputs": [
    {
     "ename": "NameError",
     "evalue": "name 'glob' is not defined",
     "output_type": "error",
     "traceback": [
      "\u001b[1;31m---------------------------------------------------------------------------\u001b[0m",
      "\u001b[1;31mNameError\u001b[0m                                 Traceback (most recent call last)",
      "Cell \u001b[1;32mIn[61], line 18\u001b[0m\n\u001b[0;32m     15\u001b[0m os\u001b[38;5;241m.\u001b[39mmakedirs(dest_train_dir, exist_ok\u001b[38;5;241m=\u001b[39m\u001b[38;5;28;01mTrue\u001b[39;00m)\n\u001b[0;32m     17\u001b[0m \u001b[38;5;66;03m# Load Input Image Paths for Training\u001b[39;00m\n\u001b[1;32m---> 18\u001b[0m train_image_paths \u001b[38;5;241m=\u001b[39m \u001b[38;5;28msorted\u001b[39m(\u001b[43mglob\u001b[49m(os\u001b[38;5;241m.\u001b[39mpath\u001b[38;5;241m.\u001b[39mjoin(image_dir, name, \u001b[38;5;124m\"\u001b[39m\u001b[38;5;124m*\u001b[39m\u001b[38;5;124m\"\u001b[39m)))[:n_train_images]\n\u001b[0;32m     20\u001b[0m \u001b[38;5;66;03m# Copy the images for Training\u001b[39;00m\n\u001b[0;32m     21\u001b[0m \u001b[38;5;28;01mfor\u001b[39;00m image_path \u001b[38;5;129;01min\u001b[39;00m tqdm(train_image_paths):\n",
      "\u001b[1;31mNameError\u001b[0m: name 'glob' is not defined"
     ]
    }
   ],
   "source": [
    "# Set some constants\n",
    "n_train_images = 10000\n",
    "n_test_images = 1000\n",
    "\n",
    "# Create Training & Testing Directories\n",
    "train_dir, test_dir = './train_dir', './valid_dir'\n",
    "os.makedirs(train_dir, exist_ok=True)\n",
    "os.makedirs(test_dir, exist_ok=True)\n",
    "\n",
    "# Copy Images from OG location to Target Location\n",
    "for name in class_names:\n",
    "\n",
    "    # Make Sure Sub Directory Exists for Training\n",
    "    dest_train_dir = os.path.join(train_dir, name)\n",
    "    os.makedirs(dest_train_dir, exist_ok=True)\n",
    "\n",
    "    # Load Input Image Paths for Training\n",
    "    train_image_paths = sorted(glob(os.path.join(image_dir, name, \"*\")))[:n_train_images]\n",
    "\n",
    "    # Copy the images for Training\n",
    "    for image_path in tqdm(train_image_paths):\n",
    "        try:\n",
    "            # Load the image to ensure it is valid\n",
    "            Image.open(image_path)\n",
    "            target_path = os.path.join(dest_train_dir, os.path.basename(image_path))\n",
    "            shutil.copy(image_path, target_path)\n",
    "        except Exception as e:\n",
    "            print(f\"Error loading image {image_path}: {e}\")\n",
    "\n",
    "# Copy Images from OG location to Target Location for Testing\n",
    "for name in class_names:\n",
    "    \n",
    "    # Make Sure Sub Directory Exists for Testing\n",
    "    dest_test_dir = os.path.join(test_dir, name)\n",
    "    os.makedirs(dest_test_dir, exist_ok=True)\n",
    "\n",
    "    # Load Input Image Paths for Testing\n",
    "    test_image_paths = sorted(glob(os.path.join(image_dir, name, \"*\")))[n_train_images:n_train_images+n_test_images]\n",
    "\n",
    "    # Copy the images for Testing\n",
    "    for image_path in tqdm(test_image_paths):\n",
    "        try:\n",
    "            # Load the image to ensure it is valid\n",
    "            Image.open(image_path)\n",
    "            target_path = os.path.join(dest_test_dir, os.path.basename(image_path))\n",
    "            shutil.copy(image_path, target_path)\n",
    "        except Exception as e:\n",
    "            print(f\"Error loading image {image_path}: {e}\")"
   ]
  },
  {
   "cell_type": "code",
   "execution_count": 62,
   "id": "5844ee70-2b98-4935-a841-abe87d27bf18",
   "metadata": {},
   "outputs": [],
   "source": [
    "train_dir, test_dir = './train_dir', './valid_dir'"
   ]
  },
  {
   "cell_type": "code",
   "execution_count": 63,
   "id": "1f040b5d-1a50-4179-9619-4b21ca26aa1b",
   "metadata": {},
   "outputs": [
    {
     "name": "stdout",
     "output_type": "stream",
     "text": [
      "Found 35289 images belonging to 43 classes.\n",
      "Found 3920 images belonging to 43 classes.\n"
     ]
    }
   ],
   "source": [
    "# Initialize Image Data Generator\n",
    "import os\n",
    "import pandas as pd\n",
    "import numpy as np\n",
    "from PIL import Image\n",
    "import tensorflow as tf\n",
    "from tensorflow.keras.preprocessing.image import ImageDataGenerator\n",
    "from tqdm import tqdm\n",
    "data_generator = ImageDataGenerator(\n",
    "    rescale=1/255.,\n",
    "    validation_split=0.1\n",
    ")\n",
    "\n",
    "# Load Training Data\n",
    "train_data = data_generator.flow_from_directory(\n",
    "    train_dir,\n",
    "    target_size=(32,32),\n",
    "    class_mode='sparse',\n",
    "    batch_size=32,\n",
    "    shuffle=True,\n",
    "    subset='training',\n",
    "    seed=42\n",
    ")\n",
    "\n",
    "# Load Validation Data\n",
    "valid_data = data_generator.flow_from_directory(\n",
    "    image_dir,\n",
    "    target_size=(32,32),\n",
    "    class_mode='sparse',\n",
    "    batch_size=32,\n",
    "    shuffle=True,\n",
    "    subset='validation',\n",
    "    seed=42\n",
    ")\n"
   ]
  },
  {
   "cell_type": "code",
   "execution_count": 64,
   "id": "399ff6bd-14d7-465c-81de-2589a9c21e2a",
   "metadata": {},
   "outputs": [],
   "source": [
    "aug=tf.keras.Sequential(\n",
    "    [\n",
    "        tf.keras.layers.RandomFlip('horizontal'),\n",
    "        tf.keras.layers.RandomFlip('vertical')\n",
    "    ]\n",
    ")"
   ]
  },
  {
   "cell_type": "code",
   "execution_count": 73,
   "id": "831143ca-7aeb-4ed1-ab22-325a52e79041",
   "metadata": {},
   "outputs": [],
   "source": [
    "from tensorflow.keras.layers import Conv2D, MaxPooling2D, Flatten, Dense, Dropout\n",
    "model = tf.keras.Sequential([\n",
    "    Conv2D(32, (3,3), activation='relu', input_shape=(32, 32, 3)),\n",
    "    MaxPooling2D(2,2),\n",
    "    Conv2D(64, (3,3), activation='relu'),\n",
    "    MaxPooling2D(2,2),\n",
    "    Conv2D(128, (3,3), activation='relu'),\n",
    "    MaxPooling2D(2,2),\n",
    "    Flatten(),\n",
    "    Dense(256, activation='relu'),\n",
    "    Dropout(0.5),\n",
    "    Dense(43, activation='softmax') # 43 classes\n",
    "])"
   ]
  },
  {
   "cell_type": "code",
   "execution_count": 77,
   "id": "23e97d81-8ef9-4c9e-be79-3921a3e9240c",
   "metadata": {},
   "outputs": [],
   "source": [
    "model.compile(optimizer=tf.keras.optimizers.Adam(learning_rate=0.001),loss=tf.keras.losses.SparseCategoricalCrossentropy(),metrics=['accuracy'])"
   ]
  },
  {
   "cell_type": "code",
   "execution_count": 78,
   "id": "2398c655-47c6-4ac0-a963-20737ba4e492",
   "metadata": {},
   "outputs": [
    {
     "name": "stdout",
     "output_type": "stream",
     "text": [
      "Model: \"sequential_11\"\n",
      "_________________________________________________________________\n",
      " Layer (type)                Output Shape              Param #   \n",
      "=================================================================\n",
      " conv2d_37 (Conv2D)          (None, 30, 30, 32)        896       \n",
      "                                                                 \n",
      " max_pooling2d_4 (MaxPooling  (None, 15, 15, 32)       0         \n",
      " 2D)                                                             \n",
      "                                                                 \n",
      " conv2d_38 (Conv2D)          (None, 13, 13, 64)        18496     \n",
      "                                                                 \n",
      " max_pooling2d_5 (MaxPooling  (None, 6, 6, 64)         0         \n",
      " 2D)                                                             \n",
      "                                                                 \n",
      " conv2d_39 (Conv2D)          (None, 4, 4, 128)         73856     \n",
      "                                                                 \n",
      " max_pooling2d_6 (MaxPooling  (None, 2, 2, 128)        0         \n",
      " 2D)                                                             \n",
      "                                                                 \n",
      " flatten_8 (Flatten)         (None, 512)               0         \n",
      "                                                                 \n",
      " dense_28 (Dense)            (None, 256)               131328    \n",
      "                                                                 \n",
      " dropout_19 (Dropout)        (None, 256)               0         \n",
      "                                                                 \n",
      " dense_29 (Dense)            (None, 43)                11051     \n",
      "                                                                 \n",
      "=================================================================\n",
      "Total params: 235,627\n",
      "Trainable params: 235,627\n",
      "Non-trainable params: 0\n",
      "_________________________________________________________________\n"
     ]
    }
   ],
   "source": [
    "model.summary()"
   ]
  },
  {
   "cell_type": "code",
   "execution_count": 79,
   "id": "a443a846-47cc-44d7-ad60-e01594d51396",
   "metadata": {},
   "outputs": [
    {
     "name": "stdout",
     "output_type": "stream",
     "text": [
      "Epoch 1/15\n",
      "1103/1103 - 20s - loss: 1.5205 - accuracy: 0.5554 - val_loss: 0.6140 - val_accuracy: 0.8334 - 20s/epoch - 18ms/step\n",
      "Epoch 2/15\n",
      "1103/1103 - 18s - loss: 0.2719 - accuracy: 0.9162 - val_loss: 0.4611 - val_accuracy: 0.8758 - 18s/epoch - 16ms/step\n",
      "Epoch 3/15\n",
      "1103/1103 - 16s - loss: 0.1345 - accuracy: 0.9591 - val_loss: 0.3418 - val_accuracy: 0.9128 - 16s/epoch - 15ms/step\n",
      "Epoch 4/15\n",
      "1103/1103 - 18s - loss: 0.0895 - accuracy: 0.9724 - val_loss: 0.3009 - val_accuracy: 0.9204 - 18s/epoch - 16ms/step\n",
      "Epoch 5/15\n",
      "1103/1103 - 16s - loss: 0.0713 - accuracy: 0.9787 - val_loss: 0.1999 - val_accuracy: 0.9505 - 16s/epoch - 15ms/step\n",
      "Epoch 6/15\n",
      "1103/1103 - 18s - loss: 0.0605 - accuracy: 0.9819 - val_loss: 0.2483 - val_accuracy: 0.9306 - 18s/epoch - 16ms/step\n",
      "Epoch 7/15\n",
      "1103/1103 - 16s - loss: 0.0457 - accuracy: 0.9865 - val_loss: 0.3723 - val_accuracy: 0.9227 - 16s/epoch - 15ms/step\n",
      "Epoch 8/15\n",
      "1103/1103 - 16s - loss: 0.0424 - accuracy: 0.9875 - val_loss: 0.3396 - val_accuracy: 0.9237 - 16s/epoch - 15ms/step\n",
      "Epoch 9/15\n",
      "1103/1103 - 17s - loss: 0.0379 - accuracy: 0.9878 - val_loss: 0.3258 - val_accuracy: 0.9311 - 17s/epoch - 15ms/step\n",
      "Epoch 10/15\n",
      "1103/1103 - 16s - loss: 0.0318 - accuracy: 0.9906 - val_loss: 0.2589 - val_accuracy: 0.9406 - 16s/epoch - 15ms/step\n",
      "Epoch 11/15\n",
      "1103/1103 - 16s - loss: 0.0306 - accuracy: 0.9908 - val_loss: 0.2493 - val_accuracy: 0.9383 - 16s/epoch - 15ms/step\n",
      "Epoch 12/15\n",
      "1103/1103 - 16s - loss: 0.0304 - accuracy: 0.9906 - val_loss: 0.3147 - val_accuracy: 0.9413 - 16s/epoch - 15ms/step\n",
      "Epoch 13/15\n",
      "1103/1103 - 17s - loss: 0.0264 - accuracy: 0.9915 - val_loss: 0.3182 - val_accuracy: 0.9421 - 17s/epoch - 15ms/step\n",
      "Epoch 14/15\n",
      "1103/1103 - 16s - loss: 0.0243 - accuracy: 0.9929 - val_loss: 0.3102 - val_accuracy: 0.9429 - 16s/epoch - 15ms/step\n",
      "Epoch 15/15\n",
      "1103/1103 - 17s - loss: 0.0267 - accuracy: 0.9922 - val_loss: 0.2284 - val_accuracy: 0.9526 - 17s/epoch - 15ms/step\n"
     ]
    }
   ],
   "source": [
    "history=model.fit(train_data,epochs=15,batch_size=32,validation_data=valid_data,verbose=2)"
   ]
  },
  {
   "cell_type": "code",
   "execution_count": 80,
   "id": "45cb7ab9-67f1-4ba1-b7c1-3bb49ab4c76f",
   "metadata": {},
   "outputs": [
    {
     "name": "stdout",
     "output_type": "stream",
     "text": [
      "Class Mapping: {'0': 0, '1': 1, '10': 2, '11': 3, '12': 4, '13': 5, '14': 6, '15': 7, '16': 8, '17': 9, '18': 10, '19': 11, '2': 12, '20': 13, '21': 14, '22': 15, '23': 16, '24': 17, '25': 18, '26': 19, '27': 20, '28': 21, '29': 22, '3': 23, '30': 24, '31': 25, '32': 26, '33': 27, '34': 28, '35': 29, '36': 30, '37': 31, '38': 32, '39': 33, '4': 34, '40': 35, '41': 36, '42': 37, '5': 38, '6': 39, '7': 40, '8': 41, '9': 42}\n"
     ]
    }
   ],
   "source": [
    "class_mapping = train_data.class_indices\n",
    "print(\"Class Mapping:\", class_mapping)"
   ]
  },
  {
   "cell_type": "code",
   "execution_count": 89,
   "id": "f264c957-427d-4837-aa80-e1fd3809854c",
   "metadata": {},
   "outputs": [
    {
     "name": "stdout",
     "output_type": "stream",
     "text": [
      "Directory exists: C:\\Users\\Saswata Maity\\.cache\\kagglehub\\datasets\\meowmeowmeowmeowmeow\\gtsrb-german-traffic-sign\\versions\\1\\Test\n"
     ]
    }
   ],
   "source": [
    "import os\n",
    "\n",
    "test_dir = r\"C:\\Users\\Saswata Maity\\.cache\\kagglehub\\datasets\\meowmeowmeowmeowmeow\\gtsrb-german-traffic-sign\\versions\\1\\Test\"\n",
    "\n",
    "# Check if the directory exists\n",
    "if not os.path.exists(test_dir):\n",
    "    print(f\"Directory does not exist: {test_dir}\")\n",
    "else:\n",
    "    print(f\"Directory exists: {test_dir}\")\n"
   ]
  },
  {
   "cell_type": "code",
   "execution_count": 97,
   "id": "16a8eb62-f0d1-44d8-a9b6-ee4a66891a16",
   "metadata": {},
   "outputs": [
    {
     "name": "stdout",
     "output_type": "stream",
     "text": [
      "Found 12630 validated image filenames belonging to 43 classes.\n",
      "Test Generator Labels: {'0': 0, '1': 1, '10': 2, '11': 3, '12': 4, '13': 5, '14': 6, '15': 7, '16': 8, '17': 9, '18': 10, '19': 11, '2': 12, '20': 13, '21': 14, '22': 15, '23': 16, '24': 17, '25': 18, '26': 19, '27': 20, '28': 21, '29': 22, '3': 23, '30': 24, '31': 25, '32': 26, '33': 27, '34': 28, '35': 29, '36': 30, '37': 31, '38': 32, '39': 33, '4': 34, '40': 35, '41': 36, '42': 37, '5': 38, '6': 39, '7': 40, '8': 41, '9': 42}\n"
     ]
    }
   ],
   "source": [
    "from tensorflow.keras.preprocessing.image import ImageDataGenerator\n",
    "import pandas as pd\n",
    "\n",
    "# Load the test CSV file\n",
    "test_df = pd.read_csv(r\"C:\\Users\\Saswata Maity\\.cache\\kagglehub\\datasets\\meowmeowmeowmeowmeow\\gtsrb-german-traffic-sign\\versions\\1\\Test.csv\")\n",
    "\n",
    "# Ensure the Path column has correct paths\n",
    "test_df[\"Path\"] = test_df[\"Path\"].apply(lambda x: \"C:/Users/Saswata Maity/.cache/kagglehub/datasets/meowmeowmeowmeowmeow/gtsrb-german-traffic-sign/versions/1/\" + x)\n",
    "# Convert labels to string format\n",
    "test_df[\"ClassId\"] = test_df[\"ClassId\"].astype(str)\n",
    "\n",
    "# Define ImageDataGenerator (no data augmentation for testing)\n",
    "test_datagen = ImageDataGenerator(rescale=1.0/255.0)\n",
    "\n",
    "# Load test images using flow_from_dataframe\n",
    "test_generator = test_datagen.flow_from_dataframe(\n",
    "    dataframe=test_df,\n",
    "    x_col=\"Path\",      # Column containing image file paths\n",
    "    y_col=\"ClassId\",   # Column containing labels\n",
    "    target_size=(64, 64),  # Resize images to match model input size\n",
    "    batch_size=32,\n",
    "    class_mode=\"categorical\",  # Use \"categorical\" for multi-class classification\n",
    "    shuffle=False  # Keep order for evaluation\n",
    ")\n",
    "\n",
    "# Print class indices\n",
    "print(\"Test Generator Labels:\", test_generator.class_indices)\n"
   ]
  },
  {
   "cell_type": "code",
   "execution_count": 92,
   "id": "dc4ad26e-fb10-4fe6-af65-11832c7c3dbc",
   "metadata": {},
   "outputs": [
    {
     "name": "stdout",
     "output_type": "stream",
     "text": [
      "   Width  Height  Roi.X1  Roi.Y1  Roi.X2  Roi.Y2  ClassId            Path\n",
      "0     53      54       6       5      48      49       16  Test/00000.png\n",
      "1     42      45       5       5      36      40        1  Test/00001.png\n",
      "2     48      52       6       6      43      47       38  Test/00002.png\n",
      "3     27      29       5       5      22      24       33  Test/00003.png\n",
      "4     60      57       5       5      55      52       11  Test/00004.png\n"
     ]
    }
   ],
   "source": [
    "import pandas as pd\n",
    "\n",
    "# Define the path to the CSV file\n",
    "csv_path = r\"C:\\Users\\Saswata Maity\\.cache\\kagglehub\\datasets\\meowmeowmeowmeowmeow\\gtsrb-german-traffic-sign\\versions\\1\\Test.csv\"\n",
    "\n",
    "# Load the CSV file\n",
    "test_df = pd.read_csv(csv_path)\n",
    "\n",
    "# Display the first few rows to understand its structure\n",
    "print(test_df.head())\n"
   ]
  },
  {
   "cell_type": "code",
   "execution_count": 98,
   "id": "c96be6a8-a478-4bb4-a729-644c21f6c9fc",
   "metadata": {},
   "outputs": [],
   "source": [
    "# Update the 'Path' column to contain absolute paths\n",
    "test_df['Path'] = test_df['Path'].apply(lambda x: os.path.join(test_data_dir, x))\n"
   ]
  },
  {
   "cell_type": "code",
   "execution_count": 99,
   "id": "bbc5ac34-991d-4377-a7d6-1b13245e8515",
   "metadata": {},
   "outputs": [
    {
     "name": "stdout",
     "output_type": "stream",
     "text": [
      "Found 12630 validated image filenames belonging to 43 classes.\n"
     ]
    }
   ],
   "source": [
    "# Initialize the ImageDataGenerator\n",
    "test_datagen = ImageDataGenerator(rescale=1.0/255)\n",
    "\n",
    "# Create the test generator using the dataframe\n",
    "test_generator = test_datagen.flow_from_dataframe(\n",
    "    dataframe=test_df,\n",
    "    x_col='Path',\n",
    "    y_col='ClassId',\n",
    "    target_size=(32, 32),\n",
    "    batch_size=32,\n",
    "    class_mode='sparse',\n",
    "    shuffle=False\n",
    ")\n"
   ]
  },
  {
   "cell_type": "code",
   "execution_count": 100,
   "id": "9f227652-6389-48a1-b629-6a2f4e9fc571",
   "metadata": {},
   "outputs": [
    {
     "name": "stdout",
     "output_type": "stream",
     "text": [
      "Images batch shape: (32, 32, 32, 3)\n",
      "Labels batch shape: (32,)\n"
     ]
    },
    {
     "data": {
      "image/png": "[encoded data removed]",
      "text/plain": [
       "<Figure size 640x480 with 1 Axes>"
      ]
     },
     "metadata": {},
     "output_type": "display_data"
    }
   ],
   "source": [
    "# Fetch a batch of images and labels\n",
    "images, labels = next(test_generator)\n",
    "\n",
    "# Display the shape of the images and labels\n",
    "print(f\"Images batch shape: {images.shape}\")\n",
    "print(f\"Labels batch shape: {labels.shape}\")\n",
    "\n",
    "# Optionally, visualize the first image and its label\n",
    "import matplotlib.pyplot as plt\n",
    "\n",
    "plt.imshow(images[0])\n",
    "plt.title(f\"Label: {labels[0]}\")\n",
    "plt.show()\n"
   ]
  },
  {
   "cell_type": "code",
   "execution_count": 106,
   "id": "0a1cadd1-3ab5-48fd-bb04-4c05ddd42172",
   "metadata": {},
   "outputs": [
    {
     "name": "stdout",
     "output_type": "stream",
     "text": [
      "395/395 [==============================] - 15s 39ms/step - loss: 0.2311 - accuracy: 0.9560\n"
     ]
    }
   ],
   "source": [
    "loss,acc=model.evaluate(test_generator)"
   ]
  },
  {
   "cell_type": "code",
   "execution_count": 107,
   "id": "a2cab55e-726b-41e8-b37e-9c39a8045f12",
   "metadata": {},
   "outputs": [
    {
     "name": "stdout",
     "output_type": "stream",
     "text": [
      "Model accuracy : 95.60 %\n"
     ]
    }
   ],
   "source": [
    "print(f'Model accuracy : {acc*100 :.2f} %')"
   ]
  },
  {
   "cell_type": "code",
   "execution_count": 108,
   "id": "37a989f3-7aa7-48ec-89f3-1575378c11af",
   "metadata": {},
   "outputs": [
    {
     "data": {
      "image/png": "[encoded data removed]",
      "text/plain": [
       "<Figure size 640x480 with 1 Axes>"
      ]
     },
     "metadata": {},
     "output_type": "display_data"
    },
    {
     "data": {
      "image/png": "[encoded data removed]",
      "text/plain": [
       "<Figure size 640x480 with 1 Axes>"
      ]
     },
     "metadata": {},
     "output_type": "display_data"
    }
   ],
   "source": [
    "accuracy = history.history[\"accuracy\"]\n",
    "val_accuracy = history.history[\"val_accuracy\"]\n",
    "loss = history.history[\"loss\"]\n",
    "val_loss = history.history[\"val_loss\"]\n",
    "epochs = range(1, len(accuracy) + 1)\n",
    "plt.plot(epochs, accuracy, label=\"Training accuracy\")\n",
    "plt.plot(epochs, val_accuracy, label=\"Validation accuracy\")\n",
    "plt.title(\"Training and validation accuracy\")\n",
    "plt.legend()\n",
    "plt.figure()\n",
    "plt.plot(epochs, loss, label=\"Training loss\")\n",
    "plt.plot(epochs, val_loss, label=\"Validation loss\")\n",
    "plt.title(\"Training and validation loss\")\n",
    "plt.legend()\n",
    "plt.show()"
   ]
  },
  {
   "cell_type": "code",
   "execution_count": 109,
   "id": "ef4db6b2-cd8a-426a-aa0c-e9d2f9100567",
   "metadata": {},
   "outputs": [
    {
     "name": "stdout",
     "output_type": "stream",
     "text": [
      "395/395 [==============================] - 15s 38ms/step\n",
      "Confusion Matrix:\n",
      "[[ 55   0   0 ...   0   5   0]\n",
      " [  1 708   0 ...   0   0   0]\n",
      " [  0   0 652 ...   0   0   0]\n",
      " ...\n",
      " [  0   0   0 ... 414   9   0]\n",
      " [  0   0   0 ...   2 436   0]\n",
      " [  0   0   0 ...   0   0 479]]\n",
      "Classification Report:\n",
      "              precision    recall  f1-score   support\n",
      "\n",
      "           0       0.83      0.92      0.87        60\n",
      "           1       0.98      0.98      0.98       720\n",
      "           2       1.00      0.99      0.99       660\n",
      "           3       0.98      0.95      0.96       420\n",
      "           4       0.97      0.95      0.96       690\n",
      "           5       0.99      0.99      0.99       720\n",
      "           6       1.00      0.97      0.99       270\n",
      "           7       0.96      1.00      0.98       210\n",
      "           8       0.97      1.00      0.98       150\n",
      "           9       0.98      0.94      0.96       360\n",
      "          10       0.96      0.83      0.89       390\n",
      "          11       0.86      1.00      0.92        60\n",
      "          12       0.98      0.98      0.98       750\n",
      "          13       0.82      1.00      0.90        90\n",
      "          14       0.90      0.71      0.80        90\n",
      "          15       0.97      0.94      0.96       120\n",
      "          16       0.88      0.99      0.93       150\n",
      "          17       0.94      0.94      0.94        90\n",
      "          18       0.97      0.97      0.97       480\n",
      "          19       0.93      0.99      0.96       180\n",
      "          20       0.49      0.60      0.54        60\n",
      "          21       0.96      0.96      0.96       150\n",
      "          22       0.96      0.97      0.96        90\n",
      "          23       0.95      0.95      0.95       450\n",
      "          24       0.95      0.80      0.87       150\n",
      "          25       0.95      0.98      0.97       270\n",
      "          26       0.95      1.00      0.98        60\n",
      "          27       0.98      0.99      0.98       210\n",
      "          28       0.90      0.98      0.94       120\n",
      "          29       1.00      0.86      0.92       390\n",
      "          30       0.97      0.93      0.95       120\n",
      "          31       0.55      1.00      0.71        60\n",
      "          32       0.94      0.98      0.96       690\n",
      "          33       0.91      0.96      0.93        90\n",
      "          34       0.99      0.96      0.98       660\n",
      "          35       0.94      0.94      0.94        90\n",
      "          36       0.90      0.87      0.88        60\n",
      "          37       0.90      0.96      0.92        90\n",
      "          38       0.91      0.97      0.94       630\n",
      "          39       0.97      0.86      0.91       150\n",
      "          40       0.97      0.92      0.95       450\n",
      "          41       0.95      0.97      0.96       450\n",
      "          42       0.98      1.00      0.99       480\n",
      "\n",
      "    accuracy                           0.96     12630\n",
      "   macro avg       0.93      0.94      0.93     12630\n",
      "weighted avg       0.96      0.96      0.96     12630\n",
      "\n"
     ]
    }
   ],
   "source": [
    "# Import required libraries\n",
    "from sklearn.metrics import confusion_matrix, classification_report\n",
    "import numpy as np\n",
    "\n",
    "# Get true labels from the test data\n",
    "y_true = test_generator.classes\n",
    "\n",
    "# Get model predictions (probabilities) and convert to class labels\n",
    "y_pred_probs = model.predict(test_generator)\n",
    "y_pred = np.argmax(y_pred_probs, axis=1)\n",
    "\n",
    "# Compute and print the confusion matrix\n",
    "cm = confusion_matrix(y_true, y_pred)\n",
    "print(\"Confusion Matrix:\")\n",
    "print(cm)\n",
    "\n",
    "# Compute and print the classification report\n",
    "print(\"Classification Report:\")\n",
    "print(classification_report(y_true, y_pred))"
   ]
  },
  {
   "cell_type": "code",
   "execution_count": null,
   "id": "79f49f54-05fd-4a63-9db2-8f432b9137e3",
   "metadata": {},
   "outputs": [],
   "source": []
  }
 ],
 "metadata": {
  "kernelspec": {
   "display_name": "Python 3 (ipykernel)",
   "language": "python",
   "name": "python3"
  },
  "language_info": {
   "codemirror_mode": {
    "name": "ipython",
    "version": 3
   },
   "file_extension": ".py",
   "mimetype": "text/x-python",
   "name": "python",
   "nbconvert_exporter": "python",
   "pygments_lexer": "ipython3",
   "version": "3.12.7"
  }
 },
 "nbformat": 4,
 "nbformat_minor": 5
}
