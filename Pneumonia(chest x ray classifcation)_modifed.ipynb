{
 "cells": [
  {
   "cell_type": "code",
   "execution_count": null,
   "id": "fdbcbdc1-95f3-45ed-96a8-b34f886fce58",
   "metadata": {},
   "outputs": [],
   "source": [
    "Assignment 3: Pneumonia Detection from X-Ray Images \n",
    "Dataset: Chest X-Ray Images (5,863 images of normal and pneumonia cases) \n",
    "Task: \n",
    "Build a CNN model to detect pneumonia from chest X-rays. \n",
    "Use Conv2D, MaxPooling, and Dropout layers. \n",
    "Train the model on the dataset and evaluate performance. \n",
    " Expected Outcomes: \n",
    "Achieve 85%+ accuracy on pneumonia detection. \n",
    " Display ROC curve, precision, and recall. "
   ]
  },
  {
   "cell_type": "code",
   "execution_count": 1,
   "id": "e094e8b3-8a3a-49b1-aad9-d7b6d634eee4",
   "metadata": {},
   "outputs": [],
   "source": [
    "import tensorflow as tf\n",
    "import cv2"
   ]
  },
  {
   "cell_type": "code",
   "execution_count": 2,
   "id": "fe5f4b0d-9548-4aa3-b406-58293ed78cfd",
   "metadata": {},
   "outputs": [],
   "source": [
    "train_path=r\"C:\\Users\\SASWATA\\Downloads\\archive (4)\\chest_xray\\train\"\n",
    "valid_path=r\"C:\\Users\\SASWATA\\Downloads\\archive (4)\\chest_xray\\val\"\n",
    "test_path=r\"C:\\Users\\SASWATA\\Downloads\\archive (4)\\chest_xray\\test\""
   ]
  },
  {
   "cell_type": "code",
   "execution_count": 3,
   "id": "8ae48f9e-ad8c-4bee-bad4-aa502ec9dcba",
   "metadata": {},
   "outputs": [
    {
     "name": "stdout",
     "output_type": "stream",
     "text": [
      "Found 5216 files belonging to 2 classes.\n"
     ]
    }
   ],
   "source": [
    "train_dataset=tf.keras.utils.image_dataset_from_directory(\n",
    "    train_path,\n",
    "    image_size=(128,128),\n",
    "    batch_size=32,\n",
    "    label_mode='categorical'   \n",
    ")"
   ]
  },
  {
   "cell_type": "code",
   "execution_count": 4,
   "id": "b2ac7b73-c262-42c1-aa85-5a9367495194",
   "metadata": {},
   "outputs": [
    {
     "name": "stdout",
     "output_type": "stream",
     "text": [
      "Found 16 files belonging to 2 classes.\n"
     ]
    }
   ],
   "source": [
    "valid_dataset=tf.keras.utils.image_dataset_from_directory(\n",
    "    valid_path,\n",
    "    image_size=(128,128),\n",
    "    batch_size=32,\n",
    "    label_mode='categorical'   \n",
    ")"
   ]
  },
  {
   "cell_type": "code",
   "execution_count": 5,
   "id": "a9075048-e688-44a2-868e-13b098c7c5ee",
   "metadata": {},
   "outputs": [
    {
     "name": "stdout",
     "output_type": "stream",
     "text": [
      "Found 624 files belonging to 2 classes.\n"
     ]
    }
   ],
   "source": [
    "test_dataset=tf.keras.utils.image_dataset_from_directory(\n",
    "    test_path,\n",
    "    image_size=(128,128),\n",
    "    batch_size=32,\n",
    "    label_mode='categorical'   \n",
    ")"
   ]
  },
  {
   "cell_type": "code",
   "execution_count": 6,
   "id": "3efc9b7a-b0e2-475c-a924-ff1f41c529a1",
   "metadata": {},
   "outputs": [],
   "source": [
    "train_unbatched = train_dataset.unbatch()\n",
    "valid_unbatched = valid_dataset.unbatch()\n",
    "test_unbatched = test_dataset.unbatch()"
   ]
  },
  {
   "cell_type": "code",
   "execution_count": 7,
   "id": "1cb354be-6697-48ec-993f-4b9a340f4ea6",
   "metadata": {},
   "outputs": [],
   "source": [
    "full_dataset = train_unbatched.concatenate(valid_unbatched).concatenate(test_unbatched)"
   ]
  },
  {
   "cell_type": "code",
   "execution_count": 8,
   "id": "723f003e-3800-40f1-8285-9c95f8d76b43",
   "metadata": {},
   "outputs": [],
   "source": [
    "total_size = 5216 + 16 + 624  # Total number of images: 5,856\n",
    "shuffled_dataset = full_dataset.shuffle(buffer_size=total_size)"
   ]
  },
  {
   "cell_type": "code",
   "execution_count": 9,
   "id": "e8214e6c-f88d-442d-9e28-68cb03eb3652",
   "metadata": {},
   "outputs": [],
   "source": [
    "train_size = int(0.75 * total_size)  # 4,392 samples (75%)\n",
    "valid_size = int(0.15 * total_size)  # 878 samples (15%)\n",
    "test_size = total_size - train_size - valid_size  # 586 samples (10%)"
   ]
  },
  {
   "cell_type": "code",
   "execution_count": 10,
   "id": "64025300-da41-4320-8a23-e99bc0badde4",
   "metadata": {},
   "outputs": [],
   "source": [
    "train_dataset = shuffled_dataset.take(train_size)\n",
    "remaining_dataset = shuffled_dataset.skip(train_size)\n",
    "valid_dataset = remaining_dataset.take(valid_size)\n",
    "test_dataset = remaining_dataset.skip(valid_size)"
   ]
  },
  {
   "cell_type": "code",
   "execution_count": 11,
   "id": "a689d0d4-02d1-4ee5-afac-1eb89aab76ec",
   "metadata": {},
   "outputs": [
    {
     "name": "stdout",
     "output_type": "stream",
     "text": [
      "Total examples: 5856\n"
     ]
    }
   ],
   "source": [
    "length = shuffled_dataset.reduce(0, lambda count, _: count + 1).numpy()\n",
    "print(\"Total examples:\", length)"
   ]
  },
  {
   "cell_type": "code",
   "execution_count": 12,
   "id": "413d83c1-4592-40cb-b787-bb175e9bbc11",
   "metadata": {},
   "outputs": [
    {
     "name": "stdout",
     "output_type": "stream",
     "text": [
      "Total train examples: 4392\n"
     ]
    }
   ],
   "source": [
    "length = train_dataset.reduce(0, lambda count, _: count + 1).numpy()\n",
    "print(\"Total train examples:\", length)"
   ]
  },
  {
   "cell_type": "code",
   "execution_count": 13,
   "id": "326cb4e4-b743-4587-ac0b-760aa2824223",
   "metadata": {},
   "outputs": [
    {
     "name": "stdout",
     "output_type": "stream",
     "text": [
      "Total validation examples: 878\n"
     ]
    }
   ],
   "source": [
    "length = valid_dataset.reduce(0, lambda count, _: count + 1).numpy()\n",
    "print(\"Total validation examples:\", length)\n"
   ]
  },
  {
   "cell_type": "code",
   "execution_count": 14,
   "id": "1f6fcd03-00c9-4301-8f36-38757be2bee1",
   "metadata": {},
   "outputs": [
    {
     "name": "stdout",
     "output_type": "stream",
     "text": [
      "Total test examples: 586\n"
     ]
    }
   ],
   "source": [
    "length = test_dataset.reduce(0, lambda count, _: count + 1).numpy()\n",
    "print(\"Total test examples:\", length)\n"
   ]
  },
  {
   "cell_type": "code",
   "execution_count": 15,
   "id": "8216e6e3-8e06-4e8d-b1c7-8ef0c43b3135",
   "metadata": {},
   "outputs": [],
   "source": [
    "train_dataset = train_dataset.batch(16)\n",
    "valid_dataset = valid_dataset.batch(16)\n",
    "test_dataset = test_dataset.batch(16)"
   ]
  },
  {
   "cell_type": "code",
   "execution_count": 17,
   "id": "e8a7e734-76be-4217-bcb8-d9292e778f52",
   "metadata": {},
   "outputs": [],
   "source": [
    "model=tf.keras.Sequential(\n",
    "    [\n",
    "        tf.keras.Input(shape=(256,256,3)),\n",
    "        tf.keras.layers.Rescaling(1.0/255.0),\n",
    "        tf.keras.layers.Conv2D(64,3,activation='relu'),\n",
    "        tf.keras.layers.MaxPooling2D((2,2)),\n",
    "        tf.keras.layers.Conv2D(128,3,activation='relu'),\n",
    "        tf.keras.layers.MaxPooling2D((2,2)),\n",
    "        tf.keras.layers.Conv2D(256,3,activation='relu'),\n",
    "        tf.keras.layers.MaxPooling2D((2,2)),\n",
    "        tf.keras.layers.Conv2D(512,3,activation='relu'),\n",
    "        tf.keras.layers.GlobalAveragePooling2D(),\n",
    "        tf.keras.layers.Dense(512,activation='relu'),\n",
    "        tf.keras.layers.Dense(256,activation='relu'),\n",
    "        tf.keras.layers.Dense(128,activation='relu'),\n",
    "        tf.keras.layers.Dense(64,activation='relu'),\n",
    "        tf.keras.layers.Dense(2,activation='softmax')\n",
    "    ]\n",
    ")"
   ]
  },
  {
   "cell_type": "code",
   "execution_count": 18,
   "id": "80685282-2473-4cbc-bcf7-8cdcde37aae4",
   "metadata": {},
   "outputs": [],
   "source": [
    "model.compile(optimizer=tf.keras.optimizers.Adam(learning_rate=0.001),loss=tf.keras.losses.CategoricalCrossentropy(),metrics=['accuracy'])"
   ]
  },
  {
   "cell_type": "code",
   "execution_count": 19,
   "id": "cbd5e0ca-11b9-465f-bbd1-665d0402382a",
   "metadata": {},
   "outputs": [
    {
     "name": "stdout",
     "output_type": "stream",
     "text": [
      "Model: \"sequential_1\"\n",
      "_________________________________________________________________\n",
      " Layer (type)                Output Shape              Param #   \n",
      "=================================================================\n",
      " rescaling_1 (Rescaling)     (None, 256, 256, 3)       0         \n",
      "                                                                 \n",
      " conv2d_4 (Conv2D)           (None, 254, 254, 64)      1792      \n",
      "                                                                 \n",
      " max_pooling2d (MaxPooling2D  (None, 127, 127, 64)     0         \n",
      " )                                                               \n",
      "                                                                 \n",
      " conv2d_5 (Conv2D)           (None, 125, 125, 128)     73856     \n",
      "                                                                 \n",
      " max_pooling2d_1 (MaxPooling  (None, 62, 62, 128)      0         \n",
      " 2D)                                                             \n",
      "                                                                 \n",
      " conv2d_6 (Conv2D)           (None, 60, 60, 256)       295168    \n",
      "                                                                 \n",
      " max_pooling2d_2 (MaxPooling  (None, 30, 30, 256)      0         \n",
      " 2D)                                                             \n",
      "                                                                 \n",
      " conv2d_7 (Conv2D)           (None, 28, 28, 512)       1180160   \n",
      "                                                                 \n",
      " global_average_pooling2d (G  (None, 512)              0         \n",
      " lobalAveragePooling2D)                                          \n",
      "                                                                 \n",
      " dense_5 (Dense)             (None, 512)               262656    \n",
      "                                                                 \n",
      " dense_6 (Dense)             (None, 256)               131328    \n",
      "                                                                 \n",
      " dense_7 (Dense)             (None, 128)               32896     \n",
      "                                                                 \n",
      " dense_8 (Dense)             (None, 64)                8256      \n",
      "                                                                 \n",
      " dense_9 (Dense)             (None, 2)                 130       \n",
      "                                                                 \n",
      "=================================================================\n",
      "Total params: 1,986,242\n",
      "Trainable params: 1,986,242\n",
      "Non-trainable params: 0\n",
      "_________________________________________________________________\n"
     ]
    }
   ],
   "source": [
    "model.summary()"
   ]
  },
  {
   "cell_type": "code",
   "execution_count": 20,
   "id": "d31e2ecb-638e-4dec-ae7a-245782c69bf5",
   "metadata": {},
   "outputs": [
    {
     "name": "stdout",
     "output_type": "stream",
     "text": [
      "Epoch 1/50\n",
      "275/275 - 31s - loss: 0.5301 - accuracy: 0.7509 - val_loss: 0.3214 - val_accuracy: 0.8656 - 31s/epoch - 112ms/step\n",
      "Epoch 2/50\n",
      "275/275 - 25s - loss: 0.3066 - accuracy: 0.8789 - val_loss: 0.3054 - val_accuracy: 0.8713 - 25s/epoch - 90ms/step\n",
      "Epoch 3/50\n",
      "275/275 - 25s - loss: 0.2725 - accuracy: 0.8896 - val_loss: 0.2522 - val_accuracy: 0.8941 - 25s/epoch - 90ms/step\n",
      "Epoch 4/50\n",
      "275/275 - 25s - loss: 0.2553 - accuracy: 0.8955 - val_loss: 0.2437 - val_accuracy: 0.8941 - 25s/epoch - 90ms/step\n",
      "Epoch 5/50\n",
      "275/275 - 25s - loss: 0.2400 - accuracy: 0.9051 - val_loss: 0.2539 - val_accuracy: 0.8986 - 25s/epoch - 90ms/step\n",
      "Epoch 6/50\n",
      "275/275 - 25s - loss: 0.2176 - accuracy: 0.9153 - val_loss: 0.2107 - val_accuracy: 0.9123 - 25s/epoch - 90ms/step\n",
      "Epoch 7/50\n",
      "275/275 - 25s - loss: 0.2150 - accuracy: 0.9139 - val_loss: 0.2071 - val_accuracy: 0.9146 - 25s/epoch - 90ms/step\n",
      "Epoch 8/50\n",
      "275/275 - 25s - loss: 0.2072 - accuracy: 0.9180 - val_loss: 0.1986 - val_accuracy: 0.9248 - 25s/epoch - 90ms/step\n",
      "Epoch 9/50\n",
      "275/275 - 25s - loss: 0.2032 - accuracy: 0.9139 - val_loss: 0.2347 - val_accuracy: 0.9214 - 25s/epoch - 90ms/step\n",
      "Epoch 10/50\n",
      "275/275 - 25s - loss: 0.2016 - accuracy: 0.9160 - val_loss: 0.2148 - val_accuracy: 0.9146 - 25s/epoch - 90ms/step\n",
      "Epoch 11/50\n",
      "275/275 - 25s - loss: 0.1974 - accuracy: 0.9183 - val_loss: 0.1970 - val_accuracy: 0.9100 - 25s/epoch - 91ms/step\n",
      "Epoch 12/50\n",
      "275/275 - 25s - loss: 0.1918 - accuracy: 0.9192 - val_loss: 0.1898 - val_accuracy: 0.9180 - 25s/epoch - 91ms/step\n",
      "Epoch 13/50\n",
      "275/275 - 25s - loss: 0.1825 - accuracy: 0.9242 - val_loss: 0.2223 - val_accuracy: 0.8895 - 25s/epoch - 91ms/step\n",
      "Epoch 14/50\n",
      "275/275 - 36s - loss: 0.1707 - accuracy: 0.9278 - val_loss: 0.1699 - val_accuracy: 0.9408 - 36s/epoch - 133ms/step\n",
      "Epoch 15/50\n",
      "275/275 - 51s - loss: 0.1625 - accuracy: 0.9328 - val_loss: 0.1414 - val_accuracy: 0.9465 - 51s/epoch - 185ms/step\n",
      "Epoch 16/50\n",
      "275/275 - 40s - loss: 0.1609 - accuracy: 0.9331 - val_loss: 0.1402 - val_accuracy: 0.9419 - 40s/epoch - 146ms/step\n",
      "Epoch 17/50\n",
      "275/275 - 40s - loss: 0.1338 - accuracy: 0.9454 - val_loss: 0.1329 - val_accuracy: 0.9510 - 40s/epoch - 146ms/step\n",
      "Epoch 18/50\n",
      "275/275 - 28s - loss: 0.1338 - accuracy: 0.9435 - val_loss: 0.1436 - val_accuracy: 0.9408 - 28s/epoch - 103ms/step\n",
      "Epoch 19/50\n",
      "275/275 - 25s - loss: 0.1129 - accuracy: 0.9547 - val_loss: 0.0979 - val_accuracy: 0.9567 - 25s/epoch - 90ms/step\n",
      "Epoch 20/50\n",
      "275/275 - 25s - loss: 0.1223 - accuracy: 0.9476 - val_loss: 0.0899 - val_accuracy: 0.9658 - 25s/epoch - 90ms/step\n",
      "Epoch 21/50\n",
      "275/275 - 25s - loss: 0.1204 - accuracy: 0.9522 - val_loss: 0.1087 - val_accuracy: 0.9556 - 25s/epoch - 90ms/step\n",
      "Epoch 22/50\n",
      "275/275 - 25s - loss: 0.1058 - accuracy: 0.9579 - val_loss: 0.0742 - val_accuracy: 0.9715 - 25s/epoch - 90ms/step\n",
      "Epoch 23/50\n",
      "275/275 - 25s - loss: 0.0942 - accuracy: 0.9633 - val_loss: 0.1267 - val_accuracy: 0.9431 - 25s/epoch - 90ms/step\n",
      "Epoch 24/50\n",
      "275/275 - 25s - loss: 0.0911 - accuracy: 0.9670 - val_loss: 0.0685 - val_accuracy: 0.9738 - 25s/epoch - 91ms/step\n",
      "Epoch 25/50\n",
      "275/275 - 25s - loss: 0.0928 - accuracy: 0.9627 - val_loss: 0.0597 - val_accuracy: 0.9749 - 25s/epoch - 91ms/step\n",
      "Epoch 26/50\n",
      "275/275 - 25s - loss: 0.0814 - accuracy: 0.9677 - val_loss: 0.0930 - val_accuracy: 0.9590 - 25s/epoch - 90ms/step\n",
      "Epoch 27/50\n",
      "275/275 - 25s - loss: 0.0815 - accuracy: 0.9679 - val_loss: 0.0672 - val_accuracy: 0.9704 - 25s/epoch - 91ms/step\n",
      "Epoch 28/50\n",
      "275/275 - 25s - loss: 0.0811 - accuracy: 0.9688 - val_loss: 0.1289 - val_accuracy: 0.9544 - 25s/epoch - 90ms/step\n",
      "Epoch 29/50\n",
      "275/275 - 25s - loss: 0.0839 - accuracy: 0.9684 - val_loss: 0.0889 - val_accuracy: 0.9670 - 25s/epoch - 90ms/step\n",
      "Epoch 30/50\n",
      "275/275 - 28s - loss: 0.0481 - accuracy: 0.9820 - val_loss: 0.0485 - val_accuracy: 0.9761 - 28s/epoch - 101ms/step\n",
      "Epoch 31/50\n",
      "275/275 - 31s - loss: 0.0509 - accuracy: 0.9816 - val_loss: 0.0370 - val_accuracy: 0.9829 - 31s/epoch - 113ms/step\n",
      "Epoch 32/50\n",
      "275/275 - 25s - loss: 0.0589 - accuracy: 0.9768 - val_loss: 0.0325 - val_accuracy: 0.9886 - 25s/epoch - 91ms/step\n",
      "Epoch 33/50\n",
      "275/275 - 25s - loss: 0.0488 - accuracy: 0.9820 - val_loss: 0.0149 - val_accuracy: 0.9954 - 25s/epoch - 92ms/step\n",
      "Epoch 34/50\n",
      "275/275 - 26s - loss: 0.0574 - accuracy: 0.9781 - val_loss: 0.0223 - val_accuracy: 0.9920 - 26s/epoch - 93ms/step\n",
      "Epoch 35/50\n",
      "275/275 - 35s - loss: 0.0439 - accuracy: 0.9822 - val_loss: 0.0177 - val_accuracy: 0.9954 - 35s/epoch - 127ms/step\n",
      "Epoch 36/50\n",
      "275/275 - 51s - loss: 0.0347 - accuracy: 0.9861 - val_loss: 0.0234 - val_accuracy: 0.9932 - 51s/epoch - 185ms/step\n",
      "Epoch 37/50\n",
      "275/275 - 39s - loss: 0.0384 - accuracy: 0.9845 - val_loss: 0.0172 - val_accuracy: 0.9932 - 39s/epoch - 143ms/step\n",
      "Epoch 38/50\n",
      "275/275 - 26s - loss: 0.0366 - accuracy: 0.9845 - val_loss: 0.0104 - val_accuracy: 0.9966 - 26s/epoch - 94ms/step\n",
      "Epoch 39/50\n",
      "275/275 - 25s - loss: 0.0441 - accuracy: 0.9829 - val_loss: 0.0077 - val_accuracy: 0.9977 - 25s/epoch - 91ms/step\n",
      "Epoch 40/50\n",
      "275/275 - 25s - loss: 0.0737 - accuracy: 0.9759 - val_loss: 0.0194 - val_accuracy: 0.9909 - 25s/epoch - 92ms/step\n",
      "Epoch 41/50\n",
      "275/275 - 25s - loss: 0.0307 - accuracy: 0.9875 - val_loss: 0.0166 - val_accuracy: 0.9932 - 25s/epoch - 91ms/step\n",
      "Epoch 42/50\n",
      "275/275 - 25s - loss: 0.0263 - accuracy: 0.9898 - val_loss: 0.0160 - val_accuracy: 0.9954 - 25s/epoch - 91ms/step\n",
      "Epoch 43/50\n",
      "275/275 - 25s - loss: 0.0252 - accuracy: 0.9909 - val_loss: 0.0196 - val_accuracy: 0.9920 - 25s/epoch - 91ms/step\n",
      "Epoch 44/50\n",
      "275/275 - 25s - loss: 0.0232 - accuracy: 0.9923 - val_loss: 0.0055 - val_accuracy: 0.9977 - 25s/epoch - 91ms/step\n",
      "Epoch 45/50\n",
      "275/275 - 25s - loss: 0.0406 - accuracy: 0.9850 - val_loss: 0.0210 - val_accuracy: 0.9920 - 25s/epoch - 91ms/step\n",
      "Epoch 46/50\n",
      "275/275 - 25s - loss: 0.0306 - accuracy: 0.9870 - val_loss: 0.0105 - val_accuracy: 0.9989 - 25s/epoch - 91ms/step\n",
      "Epoch 47/50\n",
      "275/275 - 25s - loss: 0.0256 - accuracy: 0.9904 - val_loss: 0.0364 - val_accuracy: 0.9863 - 25s/epoch - 91ms/step\n",
      "Epoch 48/50\n",
      "275/275 - 25s - loss: 0.0350 - accuracy: 0.9872 - val_loss: 0.0216 - val_accuracy: 0.9966 - 25s/epoch - 91ms/step\n",
      "Epoch 49/50\n",
      "275/275 - 25s - loss: 0.0214 - accuracy: 0.9918 - val_loss: 0.0217 - val_accuracy: 0.9932 - 25s/epoch - 90ms/step\n",
      "Epoch 50/50\n",
      "275/275 - 25s - loss: 0.0202 - accuracy: 0.9927 - val_loss: 0.0053 - val_accuracy: 0.9977 - 25s/epoch - 91ms/step\n"
     ]
    }
   ],
   "source": [
    "history=model.fit(train_dataset,epochs=50,validation_data=valid_dataset,verbose=2)"
   ]
  },
  {
   "cell_type": "code",
   "execution_count": 21,
   "id": "0a1ad3fc-cbd2-493c-ac92-c2daf22affe3",
   "metadata": {},
   "outputs": [
    {
     "name": "stdout",
     "output_type": "stream",
     "text": [
      "37/37 [==============================] - 6s 35ms/step - loss: 0.0090 - accuracy: 0.9966\n"
     ]
    },
    {
     "data": {
      "text/plain": [
       "[0.009022774174809456, 0.9965870380401611]"
      ]
     },
     "execution_count": 21,
     "metadata": {},
     "output_type": "execute_result"
    }
   ],
   "source": [
    "model.evaluate(test_dataset)"
   ]
  },
  {
   "cell_type": "code",
   "execution_count": 22,
   "id": "18bedc6b-9b6e-4b1b-96e3-7ebbf16d562d",
   "metadata": {},
   "outputs": [],
   "source": [
    "import matplotlib.pyplot as plt"
   ]
  },
  {
   "cell_type": "code",
   "execution_count": 23,
   "id": "e5b34c06-ae63-45eb-955e-ab19f25113a5",
   "metadata": {},
   "outputs": [
    {
     "data": {
      "image/png": "[encoded data removed]",
      "text/plain": [
       "<Figure size 640x480 with 1 Axes>"
      ]
     },
     "metadata": {},
     "output_type": "display_data"
    }
   ],
   "source": [
    "plt.title('Validation and Training loss curves')\n",
    "plt.plot(history.history['loss'])\n",
    "plt.plot(history.history['val_loss'])\n",
    "plt.show()"
   ]
  },
  {
   "cell_type": "code",
   "execution_count": 24,
   "id": "9564b6c6-872e-4803-b773-4bb825189cfb",
   "metadata": {},
   "outputs": [
    {
     "data": {
      "image/png": "[encoded data removed]",
      "text/plain": [
       "<Figure size 640x480 with 1 Axes>"
      ]
     },
     "metadata": {},
     "output_type": "display_data"
    }
   ],
   "source": [
    "plt.title('Validation and Training accuracy curves')\n",
    "plt.plot(history.history['accuracy'])\n",
    "plt.plot(history.history['val_accuracy'])\n",
    "plt.show()"
   ]
  },
  {
   "cell_type": "code",
   "execution_count": null,
   "id": "d976806d-57c5-4903-90a7-e8b60a961c33",
   "metadata": {},
   "outputs": [],
   "source": []
  }
 ],
 "metadata": {
  "kernelspec": {
   "display_name": "Python 3 (ipykernel)",
   "language": "python",
   "name": "python3"
  },
  "language_info": {
   "codemirror_mode": {
    "name": "ipython",
    "version": 3
   },
   "file_extension": ".py",
   "mimetype": "text/x-python",
   "name": "python",
   "nbconvert_exporter": "python",
   "pygments_lexer": "ipython3",
   "version": "3.10.16"
  }
 },
 "nbformat": 4,
 "nbformat_minor": 5
}
