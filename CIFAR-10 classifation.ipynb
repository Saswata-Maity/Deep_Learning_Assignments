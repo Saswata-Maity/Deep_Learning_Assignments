{
 "cells": [
  {
   "cell_type": "code",
   "execution_count": null,
   "id": "51ab341d-fe41-41e7-86a2-3237021a1ec8",
   "metadata": {},
   "outputs": [],
   "source": [
    "Assignment 1: CIFAR-10 Image Classification \n",
    "� Dataset: CIFAR-10 (60,000 images of 10 classes – airplanes, cars, birds, cats, etc.) \n",
    "� Task: \n",
    " Build a CNN model to classify images into 10 categories. \n",
    " Preprocess the dataset, normalize, and apply data augmentation. \n",
    " Train the model using training and validation sets. \n",
    "� Expected Outcomes: \n",
    " Achieve at least 75-80% accuracy. \n",
    " Plot training/validation accuracy and loss over epochs. \n",
    "Tune hyperparameters (batch size, learning rate). And interpret the results."
   ]
  },
  {
   "cell_type": "code",
   "execution_count": 3,
   "id": "9c1281f0-9e74-4bfe-9a2e-aa71977e1ec7",
   "metadata": {},
   "outputs": [],
   "source": [
    "import tensorflow as tf\n",
    "from tensorflow.keras import datasets, layers, models\n",
    "from tensorflow.keras.preprocessing.image import ImageDataGenerator\n",
    "import matplotlib.pyplot as plt\n",
    "import numpy as np"
   ]
  },
  {
   "cell_type": "code",
   "execution_count": 7,
   "id": "337677f3-de99-490a-b6a8-4dc224a7991d",
   "metadata": {},
   "outputs": [
    {
     "name": "stderr",
     "output_type": "stream",
     "text": [
      "C:\\Users\\SASWATA\\.conda\\envs\\gpusupport\\lib\\site-packages\\tqdm\\auto.py:21: TqdmWarning: IProgress not found. Please update jupyter and ipywidgets. See https://ipywidgets.readthedocs.io/en/stable/user_install.html\n",
      "  from .autonotebook import tqdm as notebook_tqdm\n"
     ]
    },
    {
     "name": "stdout",
     "output_type": "stream",
     "text": [
      "Warning: Looks like you're using an outdated `kagglehub` version (installed: 0.3.10), please consider upgrading to the latest version (0.3.11).\n",
      "Downloading from https://www.kaggle.com/api/v1/datasets/download/ayush1220/cifar10?dataset_version_number=2...\n"
     ]
    },
    {
     "name": "stderr",
     "output_type": "stream",
     "text": [
      "100%|███████████████████████████████████████████████████████████████████████████████| 139M/139M [00:15<00:00, 9.62MB/s]"
     ]
    },
    {
     "name": "stdout",
     "output_type": "stream",
     "text": [
      "Extracting files...\n"
     ]
    },
    {
     "name": "stderr",
     "output_type": "stream",
     "text": [
      "\n"
     ]
    },
    {
     "name": "stdout",
     "output_type": "stream",
     "text": [
      "Path to dataset files: C:\\Users\\SASWATA\\.cache\\kagglehub\\datasets\\ayush1220\\cifar10\\versions\\2\n"
     ]
    }
   ],
   "source": [
    "import kagglehub\n",
    "\n",
    "# Download latest version\n",
    "path = kagglehub.dataset_download(\"ayush1220/cifar10\")\n",
    "\n",
    "print(\"Path to dataset files:\", path)"
   ]
  },
  {
   "cell_type": "code",
   "execution_count": 4,
   "id": "c1adaa1b-484e-462d-9e31-88be52b93d80",
   "metadata": {},
   "outputs": [],
   "source": [
    "train_path=r\"C:\\Users\\SASWATA\\.cache\\kagglehub\\datasets\\ayush1220\\cifar10\\versions\\2\\cifar10\\train\"\n",
    "test_path=r\"C:\\Users\\SASWATA\\.cache\\kagglehub\\datasets\\ayush1220\\cifar10\\versions\\2\\cifar10\\test\""
   ]
  },
  {
   "cell_type": "code",
   "execution_count": 5,
   "id": "92125c5a-e617-4032-bce5-c2c60918e509",
   "metadata": {},
   "outputs": [
    {
     "name": "stdout",
     "output_type": "stream",
     "text": [
      "Found 45000 images belonging to 10 classes.\n",
      "Found 5000 images belonging to 10 classes.\n",
      "Found 10000 images belonging to 10 classes.\n"
     ]
    }
   ],
   "source": [
    "# Initialize Image Data Generator\n",
    "data_generator = ImageDataGenerator(\n",
    "    rescale=1/255.,\n",
    "    validation_split=0.1\n",
    ")\n",
    "\n",
    "# Load Training Data\n",
    "train_data = data_generator.flow_from_directory(\n",
    "    train_path,\n",
    "    target_size=(32,32),\n",
    "    batch_size=64,\n",
    "    shuffle=True,\n",
    "    subset='training',\n",
    "    seed=42\n",
    ")\n",
    "\n",
    "# Load Validation Data\n",
    "valid_data = data_generator.flow_from_directory(\n",
    "    train_path,\n",
    "    target_size=(32,32),\n",
    "    batch_size=64,\n",
    "    shuffle=True,\n",
    "    subset='validation',\n",
    "    seed=42\n",
    ")\n",
    "\n",
    "# Load Testing Data\n",
    "test_data = data_generator.flow_from_directory(\n",
    "    test_path,\n",
    "    target_size=(32,32),\n",
    "    batch_size=64,\n",
    "    shuffle=False,\n",
    "    seed=42\n",
    ")"
   ]
  },
  {
   "cell_type": "code",
   "execution_count": 6,
   "id": "be833157-598a-4f6f-859d-b8786d34c614",
   "metadata": {},
   "outputs": [],
   "source": [
    "data_aug=tf.keras.Sequential(\n",
    "    [\n",
    "        tf.keras.layers.RandomFlip('horizontal'),\n",
    "        tf.keras.layers.RandomFlip('vertical'),\n",
    "        tf.keras.layers.RandomRotation(0.15)\n",
    "    ]\n",
    ")"
   ]
  },
  {
   "cell_type": "code",
   "execution_count": 15,
   "id": "2c0570e8-2801-44f2-a1ee-63b8e6bb667b",
   "metadata": {},
   "outputs": [],
   "source": [
    "from tensorflow.keras import regularizers\n",
    "\n",
    "model=tf.keras.Sequential(\n",
    "    [\n",
    "        tf.keras.Input(shape=(32,32,3)),\n",
    "        #data_aug,\n",
    "        tf.keras.layers.Conv2D(16,3,activation='relu', padding='same'),\n",
    "        #tf.keras.layers.BatchNormalization(),\n",
    "        tf.keras.layers.Conv2D(16,3,activation='relu', padding='same'),\n",
    "        tf.keras.layers.BatchNormalization(),\n",
    "        tf.keras.layers.Conv2D(16,3,activation='relu', padding='same',kernel_regularizer=regularizers.l2(0.0005)),\n",
    "        #tf.keras.layers.BatchNormalization(),\n",
    "        tf.keras.layers.Conv2D(32,3,activation='relu', padding='same'),\n",
    "        tf.keras.layers.BatchNormalization(),\n",
    "        tf.keras.layers.Conv2D(32,3,activation='relu',kernel_regularizer=regularizers.l2(0.0001)),\n",
    "        #tf.keras.layers.Conv2D(32,3,activation='relu'),\n",
    "        tf.keras.layers.BatchNormalization(),\n",
    "        tf.keras.layers.MaxPooling2D((2,2)),\n",
    "        tf.keras.layers.Dropout(0.1),\n",
    "        tf.keras.layers.Conv2D(64,3,activation='relu', padding='same'),\n",
    "        #tf.keras.layers.BatchNormalization(),\n",
    "        tf.keras.layers.Conv2D(64,3,activation='relu',kernel_regularizer=regularizers.l2(0.0005)),\n",
    "        tf.keras.layers.BatchNormalization(),\n",
    "        #tf.keras.layers.Conv2D(128,3,activation='relu'),\n",
    "        tf.keras.layers.Conv2D(64,3,activation='relu',kernel_regularizer=regularizers.l2(0.0001)),\n",
    "        tf.keras.layers.BatchNormalization(),\n",
    "        tf.keras.layers.MaxPooling2D((2,2)),\n",
    "        tf.keras.layers.Dropout(0.2),\n",
    "       # tf.keras.layers.Conv2D(256, 3, activation='relu', padding='same'),\n",
    "        #tf.keras.layers.Conv2D(64,3,activation='relu',kernel_regularizer=regularizers.l2(0.0005)),\n",
    "        #tf.keras.layers.BatchNormalization(),\n",
    "        tf.keras.layers.Flatten(),\n",
    "        tf.keras.layers.Dense(512,activation='relu'),\n",
    "        tf.keras.layers.Dropout(0.4),\n",
    "        tf.keras.layers.Dense(256,activation='relu',kernel_regularizer=regularizers.l2(0.0005)),\n",
    "        tf.keras.layers.Dense(128,activation='relu',kernel_regularizer=regularizers.l2(0.0005)),\n",
    "        tf.keras.layers.Dropout(0.25),\n",
    "        tf.keras.layers.Dense(64,activation='relu',kernel_regularizer=regularizers.l2(0.0001)),\n",
    "        tf.keras.layers.Dropout(0.25),\n",
    "        tf.keras.layers.Dense(32,activation='relu'),\n",
    "        tf.keras.layers.Dense(10,activation='softmax')    ]\n",
    ")"
   ]
  },
  {
   "cell_type": "code",
   "execution_count": 16,
   "id": "3765a94c-203c-42f9-ac1c-5278ebaa9479",
   "metadata": {},
   "outputs": [],
   "source": [
    "model.compile(optimizer=tf.keras.optimizers.SGD(learning_rate=0.001,momentum=0.9),loss=tf.keras.losses.CategoricalCrossentropy(),metrics=['accuracy'])"
   ]
  },
  {
   "cell_type": "code",
   "execution_count": 17,
   "id": "6f1b8633-e732-4923-b89e-077453ffd1d1",
   "metadata": {},
   "outputs": [
    {
     "name": "stdout",
     "output_type": "stream",
     "text": [
      "Model: \"sequential_3\"\n",
      "_________________________________________________________________\n",
      " Layer (type)                Output Shape              Param #   \n",
      "=================================================================\n",
      " conv2d_16 (Conv2D)          (None, 32, 32, 16)        448       \n",
      "                                                                 \n",
      " conv2d_17 (Conv2D)          (None, 32, 32, 16)        2320      \n",
      "                                                                 \n",
      " batch_normalization_13 (Bat  (None, 32, 32, 16)       64        \n",
      " chNormalization)                                                \n",
      "                                                                 \n",
      " conv2d_18 (Conv2D)          (None, 32, 32, 16)        2320      \n",
      "                                                                 \n",
      " conv2d_19 (Conv2D)          (None, 32, 32, 32)        4640      \n",
      "                                                                 \n",
      " batch_normalization_14 (Bat  (None, 32, 32, 32)       128       \n",
      " chNormalization)                                                \n",
      "                                                                 \n",
      " conv2d_20 (Conv2D)          (None, 30, 30, 32)        9248      \n",
      "                                                                 \n",
      " batch_normalization_15 (Bat  (None, 30, 30, 32)       128       \n",
      " chNormalization)                                                \n",
      "                                                                 \n",
      " max_pooling2d_4 (MaxPooling  (None, 15, 15, 32)       0         \n",
      " 2D)                                                             \n",
      "                                                                 \n",
      " dropout_8 (Dropout)         (None, 15, 15, 32)        0         \n",
      "                                                                 \n",
      " conv2d_21 (Conv2D)          (None, 15, 15, 64)        18496     \n",
      "                                                                 \n",
      " conv2d_22 (Conv2D)          (None, 13, 13, 64)        36928     \n",
      "                                                                 \n",
      " batch_normalization_16 (Bat  (None, 13, 13, 64)       256       \n",
      " chNormalization)                                                \n",
      "                                                                 \n",
      " conv2d_23 (Conv2D)          (None, 11, 11, 64)        36928     \n",
      "                                                                 \n",
      " batch_normalization_17 (Bat  (None, 11, 11, 64)       256       \n",
      " chNormalization)                                                \n",
      "                                                                 \n",
      " max_pooling2d_5 (MaxPooling  (None, 5, 5, 64)         0         \n",
      " 2D)                                                             \n",
      "                                                                 \n",
      " dropout_9 (Dropout)         (None, 5, 5, 64)          0         \n",
      "                                                                 \n",
      " flatten_2 (Flatten)         (None, 1600)              0         \n",
      "                                                                 \n",
      " dense_10 (Dense)            (None, 512)               819712    \n",
      "                                                                 \n",
      " dropout_10 (Dropout)        (None, 512)               0         \n",
      "                                                                 \n",
      " dense_11 (Dense)            (None, 256)               131328    \n",
      "                                                                 \n",
      " dense_12 (Dense)            (None, 128)               32896     \n",
      "                                                                 \n",
      " dropout_11 (Dropout)        (None, 128)               0         \n",
      "                                                                 \n",
      " dense_13 (Dense)            (None, 64)                8256      \n",
      "                                                                 \n",
      " dropout_12 (Dropout)        (None, 64)                0         \n",
      "                                                                 \n",
      " dense_14 (Dense)            (None, 32)                2080      \n",
      "                                                                 \n",
      " dense_15 (Dense)            (None, 10)                330       \n",
      "                                                                 \n",
      "=================================================================\n",
      "Total params: 1,106,762\n",
      "Trainable params: 1,106,346\n",
      "Non-trainable params: 416\n",
      "_________________________________________________________________\n"
     ]
    }
   ],
   "source": [
    "model.summary()"
   ]
  },
  {
   "cell_type": "code",
   "execution_count": 18,
   "id": "dfbf1033-5930-4713-bcc4-28a65f53720d",
   "metadata": {},
   "outputs": [
    {
     "name": "stdout",
     "output_type": "stream",
     "text": [
      "Epoch 1/45\n",
      "704/704 - 8s - loss: 2.5330 - accuracy: 0.1650 - val_loss: 2.1876 - val_accuracy: 0.3080 - 8s/epoch - 11ms/step\n",
      "Epoch 2/45\n",
      "704/704 - 7s - loss: 2.1007 - accuracy: 0.3125 - val_loss: 1.9859 - val_accuracy: 0.3640 - 7s/epoch - 10ms/step\n",
      "Epoch 3/45\n",
      "704/704 - 7s - loss: 1.9071 - accuracy: 0.3880 - val_loss: 1.7505 - val_accuracy: 0.4546 - 7s/epoch - 10ms/step\n",
      "Epoch 4/45\n",
      "704/704 - 7s - loss: 1.8030 - accuracy: 0.4288 - val_loss: 1.7110 - val_accuracy: 0.4774 - 7s/epoch - 10ms/step\n",
      "Epoch 5/45\n",
      "704/704 - 7s - loss: 1.7084 - accuracy: 0.4702 - val_loss: 1.5469 - val_accuracy: 0.5444 - 7s/epoch - 10ms/step\n",
      "Epoch 6/45\n",
      "704/704 - 7s - loss: 1.6181 - accuracy: 0.5089 - val_loss: 1.4511 - val_accuracy: 0.5790 - 7s/epoch - 10ms/step\n",
      "Epoch 7/45\n",
      "704/704 - 7s - loss: 1.5311 - accuracy: 0.5456 - val_loss: 1.5846 - val_accuracy: 0.5350 - 7s/epoch - 10ms/step\n",
      "Epoch 8/45\n",
      "704/704 - 7s - loss: 1.4550 - accuracy: 0.5802 - val_loss: 1.3576 - val_accuracy: 0.6144 - 7s/epoch - 10ms/step\n",
      "Epoch 9/45\n",
      "704/704 - 7s - loss: 1.3887 - accuracy: 0.6049 - val_loss: 1.3994 - val_accuracy: 0.6042 - 7s/epoch - 10ms/step\n",
      "Epoch 10/45\n",
      "704/704 - 7s - loss: 1.3305 - accuracy: 0.6297 - val_loss: 1.2607 - val_accuracy: 0.6504 - 7s/epoch - 10ms/step\n",
      "Epoch 11/45\n",
      "704/704 - 7s - loss: 1.2882 - accuracy: 0.6426 - val_loss: 1.2676 - val_accuracy: 0.6530 - 7s/epoch - 10ms/step\n",
      "Epoch 12/45\n",
      "704/704 - 7s - loss: 1.2498 - accuracy: 0.6577 - val_loss: 1.2255 - val_accuracy: 0.6582 - 7s/epoch - 10ms/step\n",
      "Epoch 13/45\n",
      "704/704 - 7s - loss: 1.2142 - accuracy: 0.6702 - val_loss: 1.1133 - val_accuracy: 0.7032 - 7s/epoch - 10ms/step\n",
      "Epoch 14/45\n",
      "704/704 - 7s - loss: 1.1767 - accuracy: 0.6836 - val_loss: 1.1027 - val_accuracy: 0.7062 - 7s/epoch - 10ms/step\n",
      "Epoch 15/45\n",
      "704/704 - 7s - loss: 1.1431 - accuracy: 0.6970 - val_loss: 1.1018 - val_accuracy: 0.7100 - 7s/epoch - 10ms/step\n",
      "Epoch 16/45\n",
      "704/704 - 7s - loss: 1.1128 - accuracy: 0.7040 - val_loss: 1.0887 - val_accuracy: 0.7132 - 7s/epoch - 10ms/step\n",
      "Epoch 17/45\n",
      "704/704 - 7s - loss: 1.0869 - accuracy: 0.7155 - val_loss: 1.0431 - val_accuracy: 0.7242 - 7s/epoch - 10ms/step\n",
      "Epoch 18/45\n",
      "704/704 - 7s - loss: 1.0618 - accuracy: 0.7243 - val_loss: 1.0179 - val_accuracy: 0.7332 - 7s/epoch - 10ms/step\n",
      "Epoch 19/45\n",
      "704/704 - 7s - loss: 1.0329 - accuracy: 0.7339 - val_loss: 1.0348 - val_accuracy: 0.7336 - 7s/epoch - 10ms/step\n",
      "Epoch 20/45\n",
      "704/704 - 8s - loss: 1.0123 - accuracy: 0.7375 - val_loss: 0.9929 - val_accuracy: 0.7470 - 8s/epoch - 11ms/step\n",
      "Epoch 21/45\n",
      "704/704 - 7s - loss: 0.9936 - accuracy: 0.7445 - val_loss: 1.0257 - val_accuracy: 0.7374 - 7s/epoch - 10ms/step\n",
      "Epoch 22/45\n",
      "704/704 - 7s - loss: 0.9764 - accuracy: 0.7503 - val_loss: 1.0085 - val_accuracy: 0.7390 - 7s/epoch - 10ms/step\n",
      "Epoch 23/45\n",
      "704/704 - 7s - loss: 0.9525 - accuracy: 0.7560 - val_loss: 0.9584 - val_accuracy: 0.7546 - 7s/epoch - 10ms/step\n",
      "Epoch 24/45\n",
      "704/704 - 7s - loss: 0.9353 - accuracy: 0.7621 - val_loss: 0.9410 - val_accuracy: 0.7656 - 7s/epoch - 10ms/step\n",
      "Epoch 25/45\n",
      "704/704 - 7s - loss: 0.9145 - accuracy: 0.7704 - val_loss: 0.9482 - val_accuracy: 0.7534 - 7s/epoch - 10ms/step\n",
      "Epoch 26/45\n",
      "704/704 - 7s - loss: 0.8929 - accuracy: 0.7751 - val_loss: 0.9481 - val_accuracy: 0.7580 - 7s/epoch - 10ms/step\n",
      "Epoch 27/45\n",
      "704/704 - 7s - loss: 0.8764 - accuracy: 0.7806 - val_loss: 0.9837 - val_accuracy: 0.7420 - 7s/epoch - 10ms/step\n",
      "Epoch 28/45\n",
      "704/704 - 7s - loss: 0.8645 - accuracy: 0.7846 - val_loss: 0.9273 - val_accuracy: 0.7614 - 7s/epoch - 10ms/step\n",
      "Epoch 29/45\n",
      "704/704 - 7s - loss: 0.8482 - accuracy: 0.7874 - val_loss: 0.9492 - val_accuracy: 0.7612 - 7s/epoch - 10ms/step\n",
      "Epoch 30/45\n",
      "704/704 - 7s - loss: 0.8281 - accuracy: 0.7971 - val_loss: 0.9020 - val_accuracy: 0.7714 - 7s/epoch - 10ms/step\n",
      "Epoch 31/45\n",
      "704/704 - 7s - loss: 0.8161 - accuracy: 0.8004 - val_loss: 0.9291 - val_accuracy: 0.7612 - 7s/epoch - 10ms/step\n",
      "Epoch 32/45\n",
      "704/704 - 7s - loss: 0.8036 - accuracy: 0.8007 - val_loss: 0.8733 - val_accuracy: 0.7804 - 7s/epoch - 10ms/step\n",
      "Epoch 33/45\n",
      "704/704 - 7s - loss: 0.7861 - accuracy: 0.8059 - val_loss: 0.8851 - val_accuracy: 0.7760 - 7s/epoch - 10ms/step\n",
      "Epoch 34/45\n",
      "704/704 - 7s - loss: 0.7769 - accuracy: 0.8102 - val_loss: 0.8565 - val_accuracy: 0.7828 - 7s/epoch - 10ms/step\n",
      "Epoch 35/45\n",
      "704/704 - 7s - loss: 0.7587 - accuracy: 0.8161 - val_loss: 0.8509 - val_accuracy: 0.7812 - 7s/epoch - 10ms/step\n",
      "Epoch 36/45\n",
      "704/704 - 7s - loss: 0.7428 - accuracy: 0.8203 - val_loss: 0.9043 - val_accuracy: 0.7724 - 7s/epoch - 10ms/step\n",
      "Epoch 37/45\n",
      "704/704 - 7s - loss: 0.7395 - accuracy: 0.8195 - val_loss: 0.9756 - val_accuracy: 0.7504 - 7s/epoch - 10ms/step\n",
      "Epoch 38/45\n",
      "704/704 - 7s - loss: 0.7225 - accuracy: 0.8266 - val_loss: 0.8462 - val_accuracy: 0.7862 - 7s/epoch - 10ms/step\n",
      "Epoch 39/45\n",
      "704/704 - 7s - loss: 0.7122 - accuracy: 0.8282 - val_loss: 0.8217 - val_accuracy: 0.7940 - 7s/epoch - 10ms/step\n",
      "Epoch 40/45\n",
      "704/704 - 7s - loss: 0.7001 - accuracy: 0.8329 - val_loss: 0.8559 - val_accuracy: 0.7824 - 7s/epoch - 10ms/step\n",
      "Epoch 41/45\n",
      "704/704 - 7s - loss: 0.6909 - accuracy: 0.8346 - val_loss: 0.8407 - val_accuracy: 0.7904 - 7s/epoch - 10ms/step\n",
      "Epoch 42/45\n",
      "704/704 - 7s - loss: 0.6725 - accuracy: 0.8383 - val_loss: 0.8762 - val_accuracy: 0.7798 - 7s/epoch - 10ms/step\n",
      "Epoch 43/45\n",
      "704/704 - 7s - loss: 0.6693 - accuracy: 0.8405 - val_loss: 0.8750 - val_accuracy: 0.7820 - 7s/epoch - 10ms/step\n",
      "Epoch 44/45\n",
      "704/704 - 7s - loss: 0.6568 - accuracy: 0.8445 - val_loss: 0.8293 - val_accuracy: 0.7966 - 7s/epoch - 10ms/step\n",
      "Epoch 45/45\n",
      "704/704 - 7s - loss: 0.6463 - accuracy: 0.8466 - val_loss: 0.7997 - val_accuracy: 0.8044 - 7s/epoch - 10ms/step\n"
     ]
    }
   ],
   "source": [
    "history=model.fit(train_data,epochs=45,batch_size=128,validation_data=valid_data,verbose=2)"
   ]
  },
  {
   "cell_type": "code",
   "execution_count": 19,
   "id": "eb8a139b-b6b4-4ad0-b47f-8b1d6d9e3589",
   "metadata": {},
   "outputs": [
    {
     "name": "stdout",
     "output_type": "stream",
     "text": [
      "157/157 [==============================] - 25s 159ms/step - loss: 0.8139 - accuracy: 0.8019\n"
     ]
    }
   ],
   "source": [
    "loss,acc=model.evaluate(test_data)"
   ]
  },
  {
   "cell_type": "code",
   "execution_count": 20,
   "id": "3e2024e4-1766-4549-992f-7a911b2da81d",
   "metadata": {},
   "outputs": [
    {
     "name": "stdout",
     "output_type": "stream",
     "text": [
      "Model accuracy : 80.19 %\n"
     ]
    }
   ],
   "source": [
    "print(f'Model accuracy : {acc*100 :.2f} %')"
   ]
  },
  {
   "cell_type": "code",
   "execution_count": 21,
   "id": "295a54a0-b725-4e71-9bba-0a758148399f",
   "metadata": {},
   "outputs": [
    {
     "data": {
      "image/png": "[encoded data removed]",
      "text/plain": [
       "<Figure size 640x480 with 1 Axes>"
      ]
     },
     "metadata": {},
     "output_type": "display_data"
    },
    {
     "data": {
      "image/png": "[encoded data removed]",
      "text/plain": [
       "<Figure size 640x480 with 1 Axes>"
      ]
     },
     "metadata": {},
     "output_type": "display_data"
    }
   ],
   "source": [
    "accuracy = history.history[\"accuracy\"]\n",
    "val_accuracy = history.history[\"val_accuracy\"]\n",
    "loss = history.history[\"loss\"]\n",
    "val_loss = history.history[\"val_loss\"]\n",
    "epochs = range(1, len(accuracy) + 1)\n",
    "plt.plot(epochs, accuracy, label=\"Training accuracy\")\n",
    "plt.plot(epochs, val_accuracy, label=\"Validation accuracy\")\n",
    "plt.title(\"Training and validation accuracy\")\n",
    "plt.legend()\n",
    "plt.figure()\n",
    "plt.plot(epochs, loss, label=\"Training loss\")\n",
    "plt.plot(epochs, val_loss, label=\"Validation loss\")\n",
    "plt.title(\"Training and validation loss\")\n",
    "plt.legend()\n",
    "plt.show()"
   ]
  },
  {
   "cell_type": "code",
   "execution_count": 22,
   "id": "67a99b33-c7dd-4d6e-897e-8c4f11058b86",
   "metadata": {},
   "outputs": [
    {
     "name": "stdout",
     "output_type": "stream",
     "text": [
      "157/157 [==============================] - 1s 8ms/step\n",
      "Confusion Matrix:\n",
      "[[854   9  50  11   4   0   3   8  32  29]\n",
      " [ 14 892   5   2   1   0   5   0  13  68]\n",
      " [ 55   1 717  41  74  20  47  31   9   5]\n",
      " [ 24   1  72 659  50  77  53  40  12  12]\n",
      " [ 16   3  41  47 784   9  36  52   9   3]\n",
      " [ 12   0  50 206  46 603  15  60   6   2]\n",
      " [ 10   0  53  67  21   2 838   3   2   4]\n",
      " [ 18   0  29  25  28  24   2 861   1  12]\n",
      " [ 57   8   7   7   2   0   1   3 900  15]\n",
      " [ 18  29   3  10   0   0   4   7  18 911]]\n",
      "Classification Report:\n",
      "              precision    recall  f1-score   support\n",
      "\n",
      "           0       0.79      0.85      0.82      1000\n",
      "           1       0.95      0.89      0.92      1000\n",
      "           2       0.70      0.72      0.71      1000\n",
      "           3       0.61      0.66      0.64      1000\n",
      "           4       0.78      0.78      0.78      1000\n",
      "           5       0.82      0.60      0.70      1000\n",
      "           6       0.83      0.84      0.84      1000\n",
      "           7       0.81      0.86      0.83      1000\n",
      "           8       0.90      0.90      0.90      1000\n",
      "           9       0.86      0.91      0.88      1000\n",
      "\n",
      "    accuracy                           0.80     10000\n",
      "   macro avg       0.80      0.80      0.80     10000\n",
      "weighted avg       0.80      0.80      0.80     10000\n",
      "\n"
     ]
    }
   ],
   "source": [
    "# Import required libraries\n",
    "from sklearn.metrics import confusion_matrix, classification_report\n",
    "import numpy as np\n",
    "\n",
    "# Get true labels from the test data\n",
    "y_true = test_data.classes\n",
    "\n",
    "# Get model predictions (probabilities) and convert to class labels\n",
    "y_pred_probs = model.predict(test_data)\n",
    "y_pred = np.argmax(y_pred_probs, axis=1)\n",
    "\n",
    "# Compute and print the confusion matrix\n",
    "cm = confusion_matrix(y_true, y_pred)\n",
    "print(\"Confusion Matrix:\")\n",
    "print(cm)\n",
    "\n",
    "# Compute and print the classification report\n",
    "print(\"Classification Report:\")\n",
    "print(classification_report(y_true, y_pred))"
   ]
  },
  {
   "cell_type": "markdown",
   "id": "6bc84d7d-4575-43ac-af31-25357de47a66",
   "metadata": {},
   "source": [
    "80% accuracy with 10000 support misclassifcations about 2000 images "
   ]
  },
  {
   "cell_type": "code",
   "execution_count": null,
   "id": "94579848-2615-4fed-b130-fcdc6d6548e0",
   "metadata": {},
   "outputs": [],
   "source": []
  }
 ],
 "metadata": {
  "kernelspec": {
   "display_name": "Python 3 (ipykernel)",
   "language": "python",
   "name": "python3"
  },
  "language_info": {
   "codemirror_mode": {
    "name": "ipython",
    "version": 3
   },
   "file_extension": ".py",
   "mimetype": "text/x-python",
   "name": "python",
   "nbconvert_exporter": "python",
   "pygments_lexer": "ipython3",
   "version": "3.10.16"
  }
 },
 "nbformat": 4,
 "nbformat_minor": 5
}
