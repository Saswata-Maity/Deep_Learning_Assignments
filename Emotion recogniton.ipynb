{
 "cells": [
  {
   "cell_type": "code",
   "execution_count": null,
   "id": "51ab341d-fe41-41e7-86a2-3237021a1ec8",
   "metadata": {},
   "outputs": [],
   "source": [
    "Assignment 4: Emotion Recognition from Faces\n",
    "Dataset: FER-2013 (35,887 grayscale face images with 7 emotions: angry, happy, sad, surprise, etc.)\n",
    "Task:\n",
    "Build a CNN model to classify emotions from facial expressions.\n",
    "Apply data augmentation and use Dropout layers to prevent overfitting.\n",
    "Visualize the training process.\n",
    "Expected Outcomes:\n",
    "Achieve at least 60-70% accuracy.\n",
    "Display confusion matrix and visualize misclassifications."
   ]
  },
  {
   "cell_type": "code",
   "execution_count": 1,
   "id": "26ff75df-8c65-4f79-ae40-8462f7542513",
   "metadata": {},
   "outputs": [
    {
     "name": "stdout",
     "output_type": "stream",
     "text": [
      "Downloading from https://www.kaggle.com/api/v1/datasets/download/msambare/fer2013?dataset_version_number=1...\n"
     ]
    },
    {
     "name": "stderr",
     "output_type": "stream",
     "text": [
      "100%|█████████████████████████████████████████████████████████████████████████████| 60.3M/60.3M [00:07<00:00, 8.88MB/s]"
     ]
    },
    {
     "name": "stdout",
     "output_type": "stream",
     "text": [
      "Extracting files...\n"
     ]
    },
    {
     "name": "stderr",
     "output_type": "stream",
     "text": [
      "\n"
     ]
    },
    {
     "name": "stdout",
     "output_type": "stream",
     "text": [
      "Path to dataset files: C:\\Users\\Saswata Maity\\.cache\\kagglehub\\datasets\\msambare\\fer2013\\versions\\1\n"
     ]
    }
   ],
   "source": [
    "import kagglehub\n",
    "\n",
    "# Download latest version\n",
    "path = kagglehub.dataset_download(\"msambare/fer2013\")\n",
    "\n",
    "print(\"Path to dataset files:\", path)"
   ]
  },
  {
   "cell_type": "code",
   "execution_count": 1,
   "id": "9c1281f0-9e74-4bfe-9a2e-aa71977e1ec7",
   "metadata": {},
   "outputs": [],
   "source": [
    "train_path=r\"C:\\Users\\Saswata Maity\\.cache\\kagglehub\\datasets\\msambare\\fer2013\\versions\\1\\train\"\n",
    "test_path=r\"C:\\Users\\Saswata Maity\\.cache\\kagglehub\\datasets\\msambare\\fer2013\\versions\\1\\test\""
   ]
  },
  {
   "cell_type": "code",
   "execution_count": 2,
   "id": "fbd5301f-e6bc-45a3-9c56-7781bc8d5a1e",
   "metadata": {},
   "outputs": [],
   "source": [
    "import os\n",
    "import shutil\n",
    "from glob import glob\n",
    "from tqdm import tqdm\n",
    "import tensorflow as tf\n",
    "from tensorflow import keras\n",
    "\n",
    "import matplotlib.pyplot as plt\n",
    "\n",
    "# Dataset\n",
    "import pandas as pd\n",
    "from PIL import Image\n",
    "from tensorflow.keras.preprocessing.image import ImageDataGenerator"
   ]
  },
  {
   "cell_type": "code",
   "execution_count": 94,
   "id": "92125c5a-e617-4032-bce5-c2c60918e509",
   "metadata": {},
   "outputs": [
    {
     "name": "stdout",
     "output_type": "stream",
     "text": [
      "Found 25841 images belonging to 7 classes.\n",
      "Found 2868 images belonging to 7 classes.\n",
      "Found 7178 images belonging to 7 classes.\n"
     ]
    }
   ],
   "source": [
    "# Initialize Image Data Generator\n",
    "data_generator = ImageDataGenerator(\n",
    "    rescale=1/255.,\n",
    "    validation_split=0.1\n",
    ")\n",
    "\n",
    "# Load Training Data\n",
    "train_data = data_generator.flow_from_directory(\n",
    "    train_path,\n",
    "    target_size=(32,32),\n",
    "    batch_size=64,\n",
    "    shuffle=True,\n",
    "    color_mode='grayscale',\n",
    "    subset='training',\n",
    "    seed=42\n",
    ")\n",
    "\n",
    "# Load Validation Data\n",
    "valid_data = data_generator.flow_from_directory(\n",
    "    train_path,\n",
    "    target_size=(32,32),\n",
    "    batch_size=64,\n",
    "    shuffle=True,\n",
    "    color_mode='grayscale',\n",
    "    subset='validation',\n",
    "    seed=42\n",
    ")\n",
    "\n",
    "# Load Testing Data\n",
    "test_data = data_generator.flow_from_directory(\n",
    "    test_path,\n",
    "    target_size=(32,32),\n",
    "    batch_size=64,\n",
    "    color_mode='grayscale',\n",
    "    shuffle=False,\n",
    "    seed=42\n",
    ")"
   ]
  },
  {
   "cell_type": "code",
   "execution_count": 4,
   "id": "be833157-598a-4f6f-859d-b8786d34c614",
   "metadata": {},
   "outputs": [],
   "source": [
    "data_aug=tf.keras.Sequential(\n",
    "    [\n",
    "        tf.keras.layers.RandomFlip('horizontal'),\n",
    "        tf.keras.layers.RandomFlip('vertical')\n",
    "    ]\n",
    ")"
   ]
  },
  {
   "cell_type": "code",
   "execution_count": 127,
   "id": "2c0570e8-2801-44f2-a1ee-63b8e6bb667b",
   "metadata": {},
   "outputs": [],
   "source": [
    "from tensorflow.keras import regularizers\n",
    "\n",
    "model=tf.keras.Sequential(\n",
    "    [\n",
    "        tf.keras.Input(shape=(32,32,1)),\n",
    "        #data_aug,\n",
    "        tf.keras.layers.Conv2D(16,3,activation='relu', padding='same'),\n",
    "        tf.keras.layers.BatchNormalization(),\n",
    "        tf.keras.layers.Conv2D(16,3,activation='relu', padding='same'),\n",
    "        tf.keras.layers.BatchNormalization(),\n",
    "        tf.keras.layers.Conv2D(16,3,activation='relu', padding='same',kernel_regularizer=regularizers.l2(0.0005)),\n",
    "        tf.keras.layers.BatchNormalization(),\n",
    "        tf.keras.layers.Conv2D(32,3,activation='relu', padding='same'),\n",
    "        tf.keras.layers.BatchNormalization(),\n",
    "        tf.keras.layers.Conv2D(32,3,activation='relu',kernel_regularizer=regularizers.l2(0.0001)),\n",
    "        #tf.keras.layers.Conv2D(32,3,activation='relu'),\n",
    "        tf.keras.layers.BatchNormalization(),\n",
    "        tf.keras.layers.MaxPooling2D((2,2)),\n",
    "        tf.keras.layers.Dropout(0.15),\n",
    "        tf.keras.layers.Conv2D(64,3,activation='relu', padding='same'),\n",
    "        tf.keras.layers.BatchNormalization(),\n",
    "        tf.keras.layers.Conv2D(64,3,activation='relu',kernel_regularizer=regularizers.l2(0.0005)),\n",
    "        tf.keras.layers.BatchNormalization(),\n",
    "        #tf.keras.layers.Conv2D(128,3,activation='relu'),\n",
    "        tf.keras.layers.Conv2D(64,3,activation='relu',kernel_regularizer=regularizers.l2(0.0001)),\n",
    "        tf.keras.layers.BatchNormalization(),\n",
    "        tf.keras.layers.MaxPooling2D((2,2)),\n",
    "        tf.keras.layers.Dropout(0.2),\n",
    "       # tf.keras.layers.Conv2D(256, 3, activation='relu', padding='same'),\n",
    "        #tf.keras.layers.Conv2D(64,3,activation='relu',kernel_regularizer=regularizers.l2(0.0005)),\n",
    "        #tf.keras.layers.BatchNormalization(),\n",
    "        tf.keras.layers.Flatten(),\n",
    "        #tf.keras.layers.Dense(512,activation='relu'),\n",
    "        #tf.keras.layers.Dropout(0.5),\n",
    "        tf.keras.layers.Dense(256,activation='relu',kernel_regularizer=regularizers.l2(0.0005)),\n",
    "        tf.keras.layers.Dense(128,activation='relu',kernel_regularizer=regularizers.l2(0.0005)),\n",
    "        tf.keras.layers.Dropout(0.4),\n",
    "        tf.keras.layers.Dense(64,activation='relu',kernel_regularizer=regularizers.l2(0.0001)),\n",
    "        tf.keras.layers.Dropout(0.4),\n",
    "        tf.keras.layers.Dense(32,activation='relu'),\n",
    "        tf.keras.layers.Dense(7,activation='softmax')    ]\n",
    ")"
   ]
  },
  {
   "cell_type": "code",
   "execution_count": 128,
   "id": "3765a94c-203c-42f9-ac1c-5278ebaa9479",
   "metadata": {},
   "outputs": [],
   "source": [
    "model.compile(optimizer=tf.keras.optimizers.SGD(learning_rate=0.001,momentum=0.95),loss=tf.keras.losses.CategoricalCrossentropy(),metrics=['accuracy'])"
   ]
  },
  {
   "cell_type": "code",
   "execution_count": 129,
   "id": "6f1b8633-e732-4923-b89e-077453ffd1d1",
   "metadata": {},
   "outputs": [
    {
     "name": "stdout",
     "output_type": "stream",
     "text": [
      "Model: \"sequential_30\"\n",
      "_________________________________________________________________\n",
      " Layer (type)                Output Shape              Param #   \n",
      "=================================================================\n",
      " conv2d_194 (Conv2D)         (None, 32, 32, 16)        160       \n",
      "                                                                 \n",
      " batch_normalization_63 (Bat  (None, 32, 32, 16)       64        \n",
      " chNormalization)                                                \n",
      "                                                                 \n",
      " conv2d_195 (Conv2D)         (None, 32, 32, 16)        2320      \n",
      "                                                                 \n",
      " batch_normalization_64 (Bat  (None, 32, 32, 16)       64        \n",
      " chNormalization)                                                \n",
      "                                                                 \n",
      " conv2d_196 (Conv2D)         (None, 32, 32, 16)        2320      \n",
      "                                                                 \n",
      " batch_normalization_65 (Bat  (None, 32, 32, 16)       64        \n",
      " chNormalization)                                                \n",
      "                                                                 \n",
      " conv2d_197 (Conv2D)         (None, 32, 32, 32)        4640      \n",
      "                                                                 \n",
      " batch_normalization_66 (Bat  (None, 32, 32, 32)       128       \n",
      " chNormalization)                                                \n",
      "                                                                 \n",
      " conv2d_198 (Conv2D)         (None, 30, 30, 32)        9248      \n",
      "                                                                 \n",
      " batch_normalization_67 (Bat  (None, 30, 30, 32)       128       \n",
      " chNormalization)                                                \n",
      "                                                                 \n",
      " max_pooling2d_73 (MaxPoolin  (None, 15, 15, 32)       0         \n",
      " g2D)                                                            \n",
      "                                                                 \n",
      " dropout_77 (Dropout)        (None, 15, 15, 32)        0         \n",
      "                                                                 \n",
      " conv2d_199 (Conv2D)         (None, 15, 15, 64)        18496     \n",
      "                                                                 \n",
      " batch_normalization_68 (Bat  (None, 15, 15, 64)       256       \n",
      " chNormalization)                                                \n",
      "                                                                 \n",
      " conv2d_200 (Conv2D)         (None, 13, 13, 64)        36928     \n",
      "                                                                 \n",
      " batch_normalization_69 (Bat  (None, 13, 13, 64)       256       \n",
      " chNormalization)                                                \n",
      "                                                                 \n",
      " conv2d_201 (Conv2D)         (None, 11, 11, 64)        36928     \n",
      "                                                                 \n",
      " batch_normalization_70 (Bat  (None, 11, 11, 64)       256       \n",
      " chNormalization)                                                \n",
      "                                                                 \n",
      " max_pooling2d_74 (MaxPoolin  (None, 5, 5, 64)         0         \n",
      " g2D)                                                            \n",
      "                                                                 \n",
      " dropout_78 (Dropout)        (None, 5, 5, 64)          0         \n",
      "                                                                 \n",
      " flatten_30 (Flatten)        (None, 1600)              0         \n",
      "                                                                 \n",
      " dense_137 (Dense)           (None, 256)               409856    \n",
      "                                                                 \n",
      " dense_138 (Dense)           (None, 128)               32896     \n",
      "                                                                 \n",
      " dropout_79 (Dropout)        (None, 128)               0         \n",
      "                                                                 \n",
      " dense_139 (Dense)           (None, 64)                8256      \n",
      "                                                                 \n",
      " dropout_80 (Dropout)        (None, 64)                0         \n",
      "                                                                 \n",
      " dense_140 (Dense)           (None, 32)                2080      \n",
      "                                                                 \n",
      " dense_141 (Dense)           (None, 7)                 231       \n",
      "                                                                 \n",
      "=================================================================\n",
      "Total params: 565,575\n",
      "Trainable params: 564,967\n",
      "Non-trainable params: 608\n",
      "_________________________________________________________________\n"
     ]
    }
   ],
   "source": [
    "model.summary()"
   ]
  },
  {
   "cell_type": "code",
   "execution_count": 130,
   "id": "dfbf1033-5930-4713-bcc4-28a65f53720d",
   "metadata": {},
   "outputs": [
    {
     "name": "stdout",
     "output_type": "stream",
     "text": [
      "Epoch 1/45\n",
      "404/404 - 12s - loss: 2.2317 - accuracy: 0.2297 - val_loss: 2.1557 - val_accuracy: 0.2528 - 12s/epoch - 30ms/step\n",
      "Epoch 2/45\n",
      "404/404 - 11s - loss: 2.1417 - accuracy: 0.2640 - val_loss: 2.0744 - val_accuracy: 0.3013 - 11s/epoch - 27ms/step\n",
      "Epoch 3/45\n",
      "404/404 - 10s - loss: 2.0714 - accuracy: 0.3030 - val_loss: 2.0548 - val_accuracy: 0.3281 - 10s/epoch - 24ms/step\n",
      "Epoch 4/45\n",
      "404/404 - 11s - loss: 2.0049 - accuracy: 0.3386 - val_loss: 1.9178 - val_accuracy: 0.3954 - 11s/epoch - 27ms/step\n",
      "Epoch 5/45\n",
      "404/404 - 10s - loss: 1.9385 - accuracy: 0.3705 - val_loss: 1.8861 - val_accuracy: 0.4031 - 10s/epoch - 25ms/step\n",
      "Epoch 6/45\n",
      "404/404 - 10s - loss: 1.8845 - accuracy: 0.3965 - val_loss: 1.8271 - val_accuracy: 0.4254 - 10s/epoch - 25ms/step\n",
      "Epoch 7/45\n",
      "404/404 - 10s - loss: 1.8408 - accuracy: 0.4094 - val_loss: 1.8287 - val_accuracy: 0.4320 - 10s/epoch - 25ms/step\n",
      "Epoch 8/45\n",
      "404/404 - 11s - loss: 1.7946 - accuracy: 0.4257 - val_loss: 1.7514 - val_accuracy: 0.4407 - 11s/epoch - 27ms/step\n",
      "Epoch 9/45\n",
      "404/404 - 11s - loss: 1.7527 - accuracy: 0.4429 - val_loss: 1.7160 - val_accuracy: 0.4571 - 11s/epoch - 26ms/step\n",
      "Epoch 10/45\n",
      "404/404 - 12s - loss: 1.7186 - accuracy: 0.4543 - val_loss: 1.6810 - val_accuracy: 0.4752 - 12s/epoch - 29ms/step\n",
      "Epoch 11/45\n",
      "404/404 - 11s - loss: 1.6873 - accuracy: 0.4656 - val_loss: 1.6693 - val_accuracy: 0.4864 - 11s/epoch - 27ms/step\n",
      "Epoch 12/45\n",
      "404/404 - 11s - loss: 1.6588 - accuracy: 0.4797 - val_loss: 1.6576 - val_accuracy: 0.4878 - 11s/epoch - 26ms/step\n",
      "Epoch 13/45\n",
      "404/404 - 11s - loss: 1.6328 - accuracy: 0.4828 - val_loss: 1.6254 - val_accuracy: 0.4916 - 11s/epoch - 27ms/step\n",
      "Epoch 14/45\n",
      "404/404 - 11s - loss: 1.5995 - accuracy: 0.4968 - val_loss: 1.6121 - val_accuracy: 0.4965 - 11s/epoch - 28ms/step\n",
      "Epoch 15/45\n",
      "404/404 - 11s - loss: 1.5745 - accuracy: 0.5046 - val_loss: 1.5771 - val_accuracy: 0.5101 - 11s/epoch - 27ms/step\n",
      "Epoch 16/45\n",
      "404/404 - 11s - loss: 1.5530 - accuracy: 0.5121 - val_loss: 1.5782 - val_accuracy: 0.5087 - 11s/epoch - 28ms/step\n",
      "Epoch 17/45\n",
      "404/404 - 11s - loss: 1.5314 - accuracy: 0.5183 - val_loss: 1.5728 - val_accuracy: 0.4958 - 11s/epoch - 27ms/step\n",
      "Epoch 18/45\n",
      "404/404 - 11s - loss: 1.5092 - accuracy: 0.5250 - val_loss: 1.5831 - val_accuracy: 0.5126 - 11s/epoch - 28ms/step\n",
      "Epoch 19/45\n",
      "404/404 - 11s - loss: 1.4881 - accuracy: 0.5312 - val_loss: 1.5256 - val_accuracy: 0.5314 - 11s/epoch - 26ms/step\n",
      "Epoch 20/45\n",
      "404/404 - 12s - loss: 1.4544 - accuracy: 0.5452 - val_loss: 1.5168 - val_accuracy: 0.5331 - 12s/epoch - 28ms/step\n",
      "Epoch 21/45\n",
      "404/404 - 11s - loss: 1.4391 - accuracy: 0.5526 - val_loss: 1.5565 - val_accuracy: 0.5188 - 11s/epoch - 26ms/step\n",
      "Epoch 22/45\n",
      "404/404 - 11s - loss: 1.4201 - accuracy: 0.5560 - val_loss: 1.5679 - val_accuracy: 0.5139 - 11s/epoch - 28ms/step\n",
      "Epoch 23/45\n",
      "404/404 - 11s - loss: 1.4003 - accuracy: 0.5662 - val_loss: 1.5097 - val_accuracy: 0.5328 - 11s/epoch - 27ms/step\n",
      "Epoch 24/45\n",
      "404/404 - 11s - loss: 1.3707 - accuracy: 0.5784 - val_loss: 1.5003 - val_accuracy: 0.5275 - 11s/epoch - 28ms/step\n",
      "Epoch 25/45\n",
      "404/404 - 11s - loss: 1.3621 - accuracy: 0.5788 - val_loss: 1.4973 - val_accuracy: 0.5289 - 11s/epoch - 26ms/step\n",
      "Epoch 26/45\n",
      "404/404 - 10s - loss: 1.3398 - accuracy: 0.5883 - val_loss: 1.5305 - val_accuracy: 0.5352 - 10s/epoch - 26ms/step\n",
      "Epoch 27/45\n",
      "404/404 - 11s - loss: 1.3216 - accuracy: 0.5937 - val_loss: 1.5057 - val_accuracy: 0.5338 - 11s/epoch - 27ms/step\n",
      "Epoch 28/45\n",
      "404/404 - 11s - loss: 1.3000 - accuracy: 0.6011 - val_loss: 1.4944 - val_accuracy: 0.5439 - 11s/epoch - 28ms/step\n",
      "Epoch 29/45\n",
      "404/404 - 11s - loss: 1.2785 - accuracy: 0.6086 - val_loss: 1.4987 - val_accuracy: 0.5324 - 11s/epoch - 27ms/step\n",
      "Epoch 30/45\n",
      "404/404 - 11s - loss: 1.2608 - accuracy: 0.6167 - val_loss: 1.4676 - val_accuracy: 0.5568 - 11s/epoch - 28ms/step\n",
      "Epoch 31/45\n",
      "404/404 - 11s - loss: 1.2393 - accuracy: 0.6237 - val_loss: 1.4465 - val_accuracy: 0.5554 - 11s/epoch - 27ms/step\n",
      "Epoch 32/45\n",
      "404/404 - 11s - loss: 1.2191 - accuracy: 0.6338 - val_loss: 1.4720 - val_accuracy: 0.5554 - 11s/epoch - 27ms/step\n",
      "Epoch 33/45\n",
      "404/404 - 11s - loss: 1.1997 - accuracy: 0.6380 - val_loss: 1.4635 - val_accuracy: 0.5558 - 11s/epoch - 26ms/step\n",
      "Epoch 34/45\n",
      "404/404 - 11s - loss: 1.1851 - accuracy: 0.6468 - val_loss: 1.4750 - val_accuracy: 0.5544 - 11s/epoch - 26ms/step\n",
      "Epoch 35/45\n",
      "404/404 - 11s - loss: 1.1650 - accuracy: 0.6569 - val_loss: 1.4706 - val_accuracy: 0.5502 - 11s/epoch - 27ms/step\n",
      "Epoch 36/45\n",
      "404/404 - 11s - loss: 1.1409 - accuracy: 0.6625 - val_loss: 1.4881 - val_accuracy: 0.5478 - 11s/epoch - 26ms/step\n",
      "Epoch 37/45\n",
      "404/404 - 11s - loss: 1.1253 - accuracy: 0.6712 - val_loss: 1.4753 - val_accuracy: 0.5600 - 11s/epoch - 26ms/step\n",
      "Epoch 38/45\n",
      "404/404 - 11s - loss: 1.1081 - accuracy: 0.6752 - val_loss: 1.4653 - val_accuracy: 0.5558 - 11s/epoch - 28ms/step\n",
      "Epoch 39/45\n",
      "404/404 - 11s - loss: 1.0925 - accuracy: 0.6807 - val_loss: 1.4889 - val_accuracy: 0.5603 - 11s/epoch - 27ms/step\n",
      "Epoch 40/45\n",
      "404/404 - 11s - loss: 1.0659 - accuracy: 0.6915 - val_loss: 1.4741 - val_accuracy: 0.5607 - 11s/epoch - 28ms/step\n",
      "Epoch 41/45\n",
      "404/404 - 11s - loss: 1.0475 - accuracy: 0.6987 - val_loss: 1.5074 - val_accuracy: 0.5474 - 11s/epoch - 27ms/step\n",
      "Epoch 42/45\n",
      "404/404 - 11s - loss: 1.0258 - accuracy: 0.7088 - val_loss: 1.4892 - val_accuracy: 0.5610 - 11s/epoch - 28ms/step\n",
      "Epoch 43/45\n",
      "404/404 - 11s - loss: 1.0122 - accuracy: 0.7105 - val_loss: 1.5149 - val_accuracy: 0.5628 - 11s/epoch - 26ms/step\n",
      "Epoch 44/45\n",
      "404/404 - 11s - loss: 1.0011 - accuracy: 0.7161 - val_loss: 1.5185 - val_accuracy: 0.5586 - 11s/epoch - 28ms/step\n",
      "Epoch 45/45\n",
      "404/404 - 11s - loss: 0.9791 - accuracy: 0.7240 - val_loss: 1.5180 - val_accuracy: 0.5628 - 11s/epoch - 28ms/step\n"
     ]
    }
   ],
   "source": [
    "history=model.fit(train_data,epochs=45,batch_size=64,validation_data=valid_data,verbose=2)"
   ]
  },
  {
   "cell_type": "code",
   "execution_count": 131,
   "id": "eb8a139b-b6b4-4ad0-b47f-8b1d6d9e3589",
   "metadata": {},
   "outputs": [
    {
     "name": "stdout",
     "output_type": "stream",
     "text": [
      "113/113 [==============================] - 3s 26ms/step - loss: 1.5297 - accuracy: 0.5666\n"
     ]
    }
   ],
   "source": [
    "loss,acc=model.evaluate(test_data)"
   ]
  },
  {
   "cell_type": "code",
   "execution_count": 132,
   "id": "3e2024e4-1766-4549-992f-7a911b2da81d",
   "metadata": {},
   "outputs": [
    {
     "name": "stdout",
     "output_type": "stream",
     "text": [
      "Model accuracy : 56.66 %\n"
     ]
    }
   ],
   "source": [
    "print(f'Model accuracy : {acc*100 :.2f} %')"
   ]
  },
  {
   "cell_type": "code",
   "execution_count": 133,
   "id": "295a54a0-b725-4e71-9bba-0a758148399f",
   "metadata": {},
   "outputs": [
    {
     "data": {
      "image/png": "[encoded data removed]",
      "text/plain": [
       "<Figure size 640x480 with 1 Axes>"
      ]
     },
     "metadata": {},
     "output_type": "display_data"
    },
    {
     "data": {
      "image/png": "[encoded data removed]",
      "text/plain": [
       "<Figure size 640x480 with 1 Axes>"
      ]
     },
     "metadata": {},
     "output_type": "display_data"
    }
   ],
   "source": [
    "accuracy = history.history[\"accuracy\"]\n",
    "val_accuracy = history.history[\"val_accuracy\"]\n",
    "loss = history.history[\"loss\"]\n",
    "val_loss = history.history[\"val_loss\"]\n",
    "epochs = range(1, len(accuracy) + 1)\n",
    "plt.plot(epochs, accuracy, label=\"Training accuracy\")\n",
    "plt.plot(epochs, val_accuracy, label=\"Validation accuracy\")\n",
    "plt.title(\"Training and validation accuracy\")\n",
    "plt.legend()\n",
    "plt.figure()\n",
    "plt.plot(epochs, loss, label=\"Training loss\")\n",
    "plt.plot(epochs, val_loss, label=\"Validation loss\")\n",
    "plt.title(\"Training and validation loss\")\n",
    "plt.legend()\n",
    "plt.show()"
   ]
  },
  {
   "cell_type": "code",
   "execution_count": 134,
   "id": "67a99b33-c7dd-4d6e-897e-8c4f11058b86",
   "metadata": {},
   "outputs": [
    {
     "name": "stdout",
     "output_type": "stream",
     "text": [
      "113/113 [==============================] - 3s 25ms/step\n",
      "Confusion Matrix:\n",
      "[[ 439   18  112   59  119  193   18]\n",
      " [  32   42   14    4    4   15    0]\n",
      " [ 107   11  350   67  128  274   87]\n",
      " [  64    1   56 1429  102   89   33]\n",
      " [  73    6  102  120  651  252   29]\n",
      " [ 128    6  165  119  232  584   13]\n",
      " [  21    1  143   50   20   24  572]]\n",
      "Classification Report:\n",
      "              precision    recall  f1-score   support\n",
      "\n",
      "           0       0.51      0.46      0.48       958\n",
      "           1       0.49      0.38      0.43       111\n",
      "           2       0.37      0.34      0.36      1024\n",
      "           3       0.77      0.81      0.79      1774\n",
      "           4       0.52      0.53      0.52      1233\n",
      "           5       0.41      0.47      0.44      1247\n",
      "           6       0.76      0.69      0.72       831\n",
      "\n",
      "    accuracy                           0.57      7178\n",
      "   macro avg       0.55      0.52      0.53      7178\n",
      "weighted avg       0.57      0.57      0.57      7178\n",
      "\n"
     ]
    }
   ],
   "source": [
    "# Import required libraries\n",
    "from sklearn.metrics import confusion_matrix, classification_report\n",
    "import numpy as np\n",
    "\n",
    "# Get true labels from the test data\n",
    "y_true = test_data.classes\n",
    "\n",
    "# Get model predictions (probabilities) and convert to class labels\n",
    "y_pred_probs = model.predict(test_data)\n",
    "y_pred = np.argmax(y_pred_probs, axis=1)\n",
    "\n",
    "# Compute and print the confusion matrix\n",
    "cm = confusion_matrix(y_true, y_pred)\n",
    "print(\"Confusion Matrix:\")\n",
    "print(cm)\n",
    "\n",
    "# Compute and print the classification report\n",
    "print(\"Classification Report:\")\n",
    "print(classification_report(y_true, y_pred))"
   ]
  },
  {
   "cell_type": "markdown",
   "id": "00663af7-5e61-4936-9977-02f6c72bd848",
   "metadata": {},
   "source": [
    "57% accuracy with 7178 support misclassifcations about 3000 images so cannot vizualize"
   ]
  },
  {
   "cell_type": "code",
   "execution_count": null,
   "id": "94579848-2615-4fed-b130-fcdc6d6548e0",
   "metadata": {},
   "outputs": [],
   "source": []
  }
 ],
 "metadata": {
  "kernelspec": {
   "display_name": "Python 3 (ipykernel)",
   "language": "python",
   "name": "python3"
  },
  "language_info": {
   "codemirror_mode": {
    "name": "ipython",
    "version": 3
   },
   "file_extension": ".py",
   "mimetype": "text/x-python",
   "name": "python",
   "nbconvert_exporter": "python",
   "pygments_lexer": "ipython3",
   "version": "3.12.7"
  }
 },
 "nbformat": 4,
 "nbformat_minor": 5
}
